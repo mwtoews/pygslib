{
 "cells": [
  {
   "cell_type": "markdown",
   "metadata": {
    "slideshow": {
     "slide_type": "slide"
    }
   },
   "source": [
    "# Mineral Resource estimation with PyGSLIB\n",
    "This is the PyGSLIB `hello world` demonstration. It contains a basic MRMR assuming you have a geological interpretation (3D wireframe) of the mineralized/estimation domain (dom 1) and the variogram model. \n",
    "\n",
    "The demonstration includes:\n",
    " - import drillhole tables\n",
    " - create drillholes\n",
    " - tag drillholes with domain\n",
    " - composite\n",
    " - create a block model\n",
    " - do statistical analysis (no variography)\n",
    " - interpolate grade and validate interpolations\n",
    " - report resources\n",
    "\n",
    " The data for this demo was generated with conditional simulations. It represents a typical Au mineralization. The figure below shows the mineralized domain, drillholes and the block model created with PyGSLIB. The visualization was created with Paraview. \n",
    " \n",
    " <img src ='fig1.JPG' >\n",
    " <figcaption>Fig.1 - Drillhole data, wireframe, and block model used in this demo.</figcaption>\n",
    " "
   ]
  },
  {
   "cell_type": "markdown",
   "metadata": {},
   "source": [
    "### Import drillhole tables"
   ]
  },
  {
   "cell_type": "markdown",
   "metadata": {},
   "source": [
    "Note that PyGSLIB relies heavily on Pandas. For example, drillholes and block model data are stored as pandas DataFrames. NumPy arrays are the data format used by some pygslib functions, mainly functions implemented in Fortran (from the old GSLIB code). Use DataFrames.values to \"convert\" pandas DataFrames and series to NumPy arrays.\n",
    "Note that PyGSLIB relies heavily on Pandas. For example, drillholes and block model data are stored as pandas DataFrames. NumPy arrays are the data format used by some pygslib functions, mainly functions implemented in Fortran (from the old GSLIB code). Use DataFrames.values to \"convert\" pandas DataFrames and series to NumPy arrays.  \n",
    "Matplotlib and bokeh are used to plot data."
   ]
  },
  {
   "cell_type": "code",
   "execution_count": 1,
   "metadata": {
    "slideshow": {
     "slide_type": "slide"
    }
   },
   "outputs": [
    {
     "data": {
      "application/javascript": [
       "(function(root) {\n",
       "  function now() {\n",
       "    return new Date();\n",
       "  }\n",
       "\n",
       "  const force = true;\n",
       "\n",
       "  if (typeof root._bokeh_onload_callbacks === \"undefined\" || force === true) {\n",
       "    root._bokeh_onload_callbacks = [];\n",
       "    root._bokeh_is_loading = undefined;\n",
       "  }\n",
       "\n",
       "const JS_MIME_TYPE = 'application/javascript';\n",
       "  const HTML_MIME_TYPE = 'text/html';\n",
       "  const EXEC_MIME_TYPE = 'application/vnd.bokehjs_exec.v0+json';\n",
       "  const CLASS_NAME = 'output_bokeh rendered_html';\n",
       "\n",
       "  /**\n",
       "   * Render data to the DOM node\n",
       "   */\n",
       "  function render(props, node) {\n",
       "    const script = document.createElement(\"script\");\n",
       "    node.appendChild(script);\n",
       "  }\n",
       "\n",
       "  /**\n",
       "   * Handle when an output is cleared or removed\n",
       "   */\n",
       "  function handleClearOutput(event, handle) {\n",
       "    const cell = handle.cell;\n",
       "\n",
       "    const id = cell.output_area._bokeh_element_id;\n",
       "    const server_id = cell.output_area._bokeh_server_id;\n",
       "    // Clean up Bokeh references\n",
       "    if (id != null && id in Bokeh.index) {\n",
       "      Bokeh.index[id].model.document.clear();\n",
       "      delete Bokeh.index[id];\n",
       "    }\n",
       "\n",
       "    if (server_id !== undefined) {\n",
       "      // Clean up Bokeh references\n",
       "      const cmd_clean = \"from bokeh.io.state import curstate; print(curstate().uuid_to_server['\" + server_id + \"'].get_sessions()[0].document.roots[0]._id)\";\n",
       "      cell.notebook.kernel.execute(cmd_clean, {\n",
       "        iopub: {\n",
       "          output: function(msg) {\n",
       "            const id = msg.content.text.trim();\n",
       "            if (id in Bokeh.index) {\n",
       "              Bokeh.index[id].model.document.clear();\n",
       "              delete Bokeh.index[id];\n",
       "            }\n",
       "          }\n",
       "        }\n",
       "      });\n",
       "      // Destroy server and session\n",
       "      const cmd_destroy = \"import bokeh.io.notebook as ion; ion.destroy_server('\" + server_id + \"')\";\n",
       "      cell.notebook.kernel.execute(cmd_destroy);\n",
       "    }\n",
       "  }\n",
       "\n",
       "  /**\n",
       "   * Handle when a new output is added\n",
       "   */\n",
       "  function handleAddOutput(event, handle) {\n",
       "    const output_area = handle.output_area;\n",
       "    const output = handle.output;\n",
       "\n",
       "    // limit handleAddOutput to display_data with EXEC_MIME_TYPE content only\n",
       "    if ((output.output_type != \"display_data\") || (!Object.prototype.hasOwnProperty.call(output.data, EXEC_MIME_TYPE))) {\n",
       "      return\n",
       "    }\n",
       "\n",
       "    const toinsert = output_area.element.find(\".\" + CLASS_NAME.split(' ')[0]);\n",
       "\n",
       "    if (output.metadata[EXEC_MIME_TYPE][\"id\"] !== undefined) {\n",
       "      toinsert[toinsert.length - 1].firstChild.textContent = output.data[JS_MIME_TYPE];\n",
       "      // store reference to embed id on output_area\n",
       "      output_area._bokeh_element_id = output.metadata[EXEC_MIME_TYPE][\"id\"];\n",
       "    }\n",
       "    if (output.metadata[EXEC_MIME_TYPE][\"server_id\"] !== undefined) {\n",
       "      const bk_div = document.createElement(\"div\");\n",
       "      bk_div.innerHTML = output.data[HTML_MIME_TYPE];\n",
       "      const script_attrs = bk_div.children[0].attributes;\n",
       "      for (let i = 0; i < script_attrs.length; i++) {\n",
       "        toinsert[toinsert.length - 1].firstChild.setAttribute(script_attrs[i].name, script_attrs[i].value);\n",
       "        toinsert[toinsert.length - 1].firstChild.textContent = bk_div.children[0].textContent\n",
       "      }\n",
       "      // store reference to server id on output_area\n",
       "      output_area._bokeh_server_id = output.metadata[EXEC_MIME_TYPE][\"server_id\"];\n",
       "    }\n",
       "  }\n",
       "\n",
       "  function register_renderer(events, OutputArea) {\n",
       "\n",
       "    function append_mime(data, metadata, element) {\n",
       "      // create a DOM node to render to\n",
       "      const toinsert = this.create_output_subarea(\n",
       "        metadata,\n",
       "        CLASS_NAME,\n",
       "        EXEC_MIME_TYPE\n",
       "      );\n",
       "      this.keyboard_manager.register_events(toinsert);\n",
       "      // Render to node\n",
       "      const props = {data: data, metadata: metadata[EXEC_MIME_TYPE]};\n",
       "      render(props, toinsert[toinsert.length - 1]);\n",
       "      element.append(toinsert);\n",
       "      return toinsert\n",
       "    }\n",
       "\n",
       "    /* Handle when an output is cleared or removed */\n",
       "    events.on('clear_output.CodeCell', handleClearOutput);\n",
       "    events.on('delete.Cell', handleClearOutput);\n",
       "\n",
       "    /* Handle when a new output is added */\n",
       "    events.on('output_added.OutputArea', handleAddOutput);\n",
       "\n",
       "    /**\n",
       "     * Register the mime type and append_mime function with output_area\n",
       "     */\n",
       "    OutputArea.prototype.register_mime_type(EXEC_MIME_TYPE, append_mime, {\n",
       "      /* Is output safe? */\n",
       "      safe: true,\n",
       "      /* Index of renderer in `output_area.display_order` */\n",
       "      index: 0\n",
       "    });\n",
       "  }\n",
       "\n",
       "  // register the mime type if in Jupyter Notebook environment and previously unregistered\n",
       "  if (root.Jupyter !== undefined) {\n",
       "    const events = require('base/js/events');\n",
       "    const OutputArea = require('notebook/js/outputarea').OutputArea;\n",
       "\n",
       "    if (OutputArea.prototype.mime_types().indexOf(EXEC_MIME_TYPE) == -1) {\n",
       "      register_renderer(events, OutputArea);\n",
       "    }\n",
       "  }\n",
       "  if (typeof (root._bokeh_timeout) === \"undefined\" || force === true) {\n",
       "    root._bokeh_timeout = Date.now() + 5000;\n",
       "    root._bokeh_failed_load = false;\n",
       "  }\n",
       "\n",
       "  const NB_LOAD_WARNING = {'data': {'text/html':\n",
       "     \"<div style='background-color: #fdd'>\\n\"+\n",
       "     \"<p>\\n\"+\n",
       "     \"BokehJS does not appear to have successfully loaded. If loading BokehJS from CDN, this \\n\"+\n",
       "     \"may be due to a slow or bad network connection. Possible fixes:\\n\"+\n",
       "     \"</p>\\n\"+\n",
       "     \"<ul>\\n\"+\n",
       "     \"<li>re-rerun `output_notebook()` to attempt to load from CDN again, or</li>\\n\"+\n",
       "     \"<li>use INLINE resources instead, as so:</li>\\n\"+\n",
       "     \"</ul>\\n\"+\n",
       "     \"<code>\\n\"+\n",
       "     \"from bokeh.resources import INLINE\\n\"+\n",
       "     \"output_notebook(resources=INLINE)\\n\"+\n",
       "     \"</code>\\n\"+\n",
       "     \"</div>\"}};\n",
       "\n",
       "  function display_loaded() {\n",
       "    const el = document.getElementById(null);\n",
       "    if (el != null) {\n",
       "      el.textContent = \"BokehJS is loading...\";\n",
       "    }\n",
       "    if (root.Bokeh !== undefined) {\n",
       "      if (el != null) {\n",
       "        el.textContent = \"BokehJS \" + root.Bokeh.version + \" successfully loaded.\";\n",
       "      }\n",
       "    } else if (Date.now() < root._bokeh_timeout) {\n",
       "      setTimeout(display_loaded, 100)\n",
       "    }\n",
       "  }\n",
       "\n",
       "  function run_callbacks() {\n",
       "    try {\n",
       "      root._bokeh_onload_callbacks.forEach(function(callback) {\n",
       "        if (callback != null)\n",
       "          callback();\n",
       "      });\n",
       "    } finally {\n",
       "      delete root._bokeh_onload_callbacks\n",
       "    }\n",
       "    console.debug(\"Bokeh: all callbacks have finished\");\n",
       "  }\n",
       "\n",
       "  function load_libs(css_urls, js_urls, callback) {\n",
       "    if (css_urls == null) css_urls = [];\n",
       "    if (js_urls == null) js_urls = [];\n",
       "\n",
       "    root._bokeh_onload_callbacks.push(callback);\n",
       "    if (root._bokeh_is_loading > 0) {\n",
       "      console.debug(\"Bokeh: BokehJS is being loaded, scheduling callback at\", now());\n",
       "      return null;\n",
       "    }\n",
       "    if (js_urls == null || js_urls.length === 0) {\n",
       "      run_callbacks();\n",
       "      return null;\n",
       "    }\n",
       "    console.debug(\"Bokeh: BokehJS not loaded, scheduling load and callback at\", now());\n",
       "    root._bokeh_is_loading = css_urls.length + js_urls.length;\n",
       "\n",
       "    function on_load() {\n",
       "      root._bokeh_is_loading--;\n",
       "      if (root._bokeh_is_loading === 0) {\n",
       "        console.debug(\"Bokeh: all BokehJS libraries/stylesheets loaded\");\n",
       "        run_callbacks()\n",
       "      }\n",
       "    }\n",
       "\n",
       "    function on_error(url) {\n",
       "      console.error(\"failed to load \" + url);\n",
       "    }\n",
       "\n",
       "    for (let i = 0; i < css_urls.length; i++) {\n",
       "      const url = css_urls[i];\n",
       "      const element = document.createElement(\"link\");\n",
       "      element.onload = on_load;\n",
       "      element.onerror = on_error.bind(null, url);\n",
       "      element.rel = \"stylesheet\";\n",
       "      element.type = \"text/css\";\n",
       "      element.href = url;\n",
       "      console.debug(\"Bokeh: injecting link tag for BokehJS stylesheet: \", url);\n",
       "      document.body.appendChild(element);\n",
       "    }\n",
       "\n",
       "    for (let i = 0; i < js_urls.length; i++) {\n",
       "      const url = js_urls[i];\n",
       "      const element = document.createElement('script');\n",
       "      element.onload = on_load;\n",
       "      element.onerror = on_error.bind(null, url);\n",
       "      element.async = false;\n",
       "      element.src = url;\n",
       "      console.debug(\"Bokeh: injecting script tag for BokehJS library: \", url);\n",
       "      document.head.appendChild(element);\n",
       "    }\n",
       "  };\n",
       "\n",
       "  function inject_raw_css(css) {\n",
       "    const element = document.createElement(\"style\");\n",
       "    element.appendChild(document.createTextNode(css));\n",
       "    document.body.appendChild(element);\n",
       "  }\n",
       "\n",
       "  const js_urls = [\"https://cdn.bokeh.org/bokeh/release/bokeh-2.4.3.min.js\", \"https://cdn.bokeh.org/bokeh/release/bokeh-gl-2.4.3.min.js\", \"https://cdn.bokeh.org/bokeh/release/bokeh-widgets-2.4.3.min.js\", \"https://cdn.bokeh.org/bokeh/release/bokeh-tables-2.4.3.min.js\", \"https://cdn.bokeh.org/bokeh/release/bokeh-mathjax-2.4.3.min.js\"];\n",
       "  const css_urls = [];\n",
       "\n",
       "  const inline_js = [    function(Bokeh) {\n",
       "      Bokeh.set_log_level(\"info\");\n",
       "    },\n",
       "function(Bokeh) {\n",
       "    }\n",
       "  ];\n",
       "\n",
       "  function run_inline_js() {\n",
       "    if (root.Bokeh !== undefined || force === true) {\n",
       "          for (let i = 0; i < inline_js.length; i++) {\n",
       "      inline_js[i].call(root, root.Bokeh);\n",
       "    }\n",
       "} else if (Date.now() < root._bokeh_timeout) {\n",
       "      setTimeout(run_inline_js, 100);\n",
       "    } else if (!root._bokeh_failed_load) {\n",
       "      console.log(\"Bokeh: BokehJS failed to load within specified timeout.\");\n",
       "      root._bokeh_failed_load = true;\n",
       "    } else if (force !== true) {\n",
       "      const cell = $(document.getElementById(null)).parents('.cell').data().cell;\n",
       "      cell.output_area.append_execute_result(NB_LOAD_WARNING)\n",
       "    }\n",
       "  }\n",
       "\n",
       "  if (root._bokeh_is_loading === 0) {\n",
       "    console.debug(\"Bokeh: BokehJS loaded, going straight to plotting\");\n",
       "    run_inline_js();\n",
       "  } else {\n",
       "    load_libs(css_urls, js_urls, function() {\n",
       "      console.debug(\"Bokeh: BokehJS plotting callback run at\", now());\n",
       "      run_inline_js();\n",
       "    });\n",
       "  }\n",
       "}(window));"
      ],
      "application/vnd.bokehjs_load.v0+json": "(function(root) {\n  function now() {\n    return new Date();\n  }\n\n  const force = true;\n\n  if (typeof root._bokeh_onload_callbacks === \"undefined\" || force === true) {\n    root._bokeh_onload_callbacks = [];\n    root._bokeh_is_loading = undefined;\n  }\n\n\n  if (typeof (root._bokeh_timeout) === \"undefined\" || force === true) {\n    root._bokeh_timeout = Date.now() + 5000;\n    root._bokeh_failed_load = false;\n  }\n\n  const NB_LOAD_WARNING = {'data': {'text/html':\n     \"<div style='background-color: #fdd'>\\n\"+\n     \"<p>\\n\"+\n     \"BokehJS does not appear to have successfully loaded. If loading BokehJS from CDN, this \\n\"+\n     \"may be due to a slow or bad network connection. Possible fixes:\\n\"+\n     \"</p>\\n\"+\n     \"<ul>\\n\"+\n     \"<li>re-rerun `output_notebook()` to attempt to load from CDN again, or</li>\\n\"+\n     \"<li>use INLINE resources instead, as so:</li>\\n\"+\n     \"</ul>\\n\"+\n     \"<code>\\n\"+\n     \"from bokeh.resources import INLINE\\n\"+\n     \"output_notebook(resources=INLINE)\\n\"+\n     \"</code>\\n\"+\n     \"</div>\"}};\n\n  function display_loaded() {\n    const el = document.getElementById(null);\n    if (el != null) {\n      el.textContent = \"BokehJS is loading...\";\n    }\n    if (root.Bokeh !== undefined) {\n      if (el != null) {\n        el.textContent = \"BokehJS \" + root.Bokeh.version + \" successfully loaded.\";\n      }\n    } else if (Date.now() < root._bokeh_timeout) {\n      setTimeout(display_loaded, 100)\n    }\n  }\n\n  function run_callbacks() {\n    try {\n      root._bokeh_onload_callbacks.forEach(function(callback) {\n        if (callback != null)\n          callback();\n      });\n    } finally {\n      delete root._bokeh_onload_callbacks\n    }\n    console.debug(\"Bokeh: all callbacks have finished\");\n  }\n\n  function load_libs(css_urls, js_urls, callback) {\n    if (css_urls == null) css_urls = [];\n    if (js_urls == null) js_urls = [];\n\n    root._bokeh_onload_callbacks.push(callback);\n    if (root._bokeh_is_loading > 0) {\n      console.debug(\"Bokeh: BokehJS is being loaded, scheduling callback at\", now());\n      return null;\n    }\n    if (js_urls == null || js_urls.length === 0) {\n      run_callbacks();\n      return null;\n    }\n    console.debug(\"Bokeh: BokehJS not loaded, scheduling load and callback at\", now());\n    root._bokeh_is_loading = css_urls.length + js_urls.length;\n\n    function on_load() {\n      root._bokeh_is_loading--;\n      if (root._bokeh_is_loading === 0) {\n        console.debug(\"Bokeh: all BokehJS libraries/stylesheets loaded\");\n        run_callbacks()\n      }\n    }\n\n    function on_error(url) {\n      console.error(\"failed to load \" + url);\n    }\n\n    for (let i = 0; i < css_urls.length; i++) {\n      const url = css_urls[i];\n      const element = document.createElement(\"link\");\n      element.onload = on_load;\n      element.onerror = on_error.bind(null, url);\n      element.rel = \"stylesheet\";\n      element.type = \"text/css\";\n      element.href = url;\n      console.debug(\"Bokeh: injecting link tag for BokehJS stylesheet: \", url);\n      document.body.appendChild(element);\n    }\n\n    for (let i = 0; i < js_urls.length; i++) {\n      const url = js_urls[i];\n      const element = document.createElement('script');\n      element.onload = on_load;\n      element.onerror = on_error.bind(null, url);\n      element.async = false;\n      element.src = url;\n      console.debug(\"Bokeh: injecting script tag for BokehJS library: \", url);\n      document.head.appendChild(element);\n    }\n  };\n\n  function inject_raw_css(css) {\n    const element = document.createElement(\"style\");\n    element.appendChild(document.createTextNode(css));\n    document.body.appendChild(element);\n  }\n\n  const js_urls = [\"https://cdn.bokeh.org/bokeh/release/bokeh-2.4.3.min.js\", \"https://cdn.bokeh.org/bokeh/release/bokeh-gl-2.4.3.min.js\", \"https://cdn.bokeh.org/bokeh/release/bokeh-widgets-2.4.3.min.js\", \"https://cdn.bokeh.org/bokeh/release/bokeh-tables-2.4.3.min.js\", \"https://cdn.bokeh.org/bokeh/release/bokeh-mathjax-2.4.3.min.js\"];\n  const css_urls = [];\n\n  const inline_js = [    function(Bokeh) {\n      Bokeh.set_log_level(\"info\");\n    },\nfunction(Bokeh) {\n    }\n  ];\n\n  function run_inline_js() {\n    if (root.Bokeh !== undefined || force === true) {\n          for (let i = 0; i < inline_js.length; i++) {\n      inline_js[i].call(root, root.Bokeh);\n    }\n} else if (Date.now() < root._bokeh_timeout) {\n      setTimeout(run_inline_js, 100);\n    } else if (!root._bokeh_failed_load) {\n      console.log(\"Bokeh: BokehJS failed to load within specified timeout.\");\n      root._bokeh_failed_load = true;\n    } else if (force !== true) {\n      const cell = $(document.getElementById(null)).parents('.cell').data().cell;\n      cell.output_area.append_execute_result(NB_LOAD_WARNING)\n    }\n  }\n\n  if (root._bokeh_is_loading === 0) {\n    console.debug(\"Bokeh: BokehJS loaded, going straight to plotting\");\n    run_inline_js();\n  } else {\n    load_libs(css_urls, js_urls, function() {\n      console.debug(\"Bokeh: BokehJS plotting callback run at\", now());\n      run_inline_js();\n    });\n  }\n}(window));"
     },
     "metadata": {},
     "output_type": "display_data"
    }
   ],
   "source": [
    "# Import libraries \n",
    "import pandas as pd \n",
    "import pygslib\n",
    "import numpy as np\n",
    "import matplotlib.pyplot as plt    \n",
    "%matplotlib inline "
   ]
  },
  {
   "cell_type": "code",
   "execution_count": 2,
   "metadata": {},
   "outputs": [
    {
     "data": {
      "text/plain": [
       "'0.0.0.7.1.0'"
      ]
     },
     "execution_count": 2,
     "metadata": {},
     "output_type": "execute_result"
    }
   ],
   "source": [
    "# see the pygslib current version\n",
    "pygslib.version.__version__"
   ]
  },
  {
   "cell_type": "code",
   "execution_count": 3,
   "metadata": {
    "slideshow": {
     "slide_type": "slide"
    }
   },
   "outputs": [],
   "source": [
    "# Import drillhole data located in folder data/ into pandas dataframes\n",
    "collar = pd.read_csv('data/collar.csv')\n",
    "survey = pd.read_csv('data/survey.csv')\n",
    "assay  = pd.read_csv('data/assay.csv')"
   ]
  },
  {
   "cell_type": "code",
   "execution_count": 4,
   "metadata": {},
   "outputs": [
    {
     "data": {
      "text/plain": [
       "Index(['BHID', 'FROM', 'TO', 'Au'], dtype='object')"
      ]
     },
     "execution_count": 4,
     "metadata": {},
     "output_type": "execute_result"
    }
   ],
   "source": [
    "assay.columns"
   ]
  },
  {
   "cell_type": "markdown",
   "metadata": {},
   "source": [
    "### Create drillholes\n",
    "Drillholes are handled by the Drillhole class. A drillhole requires a collar and a survey table (in pandas DataFrame format) with columns names hardcoded as `['BHID', 'XCOLLAR', 'YCOLLAR', 'ZCOLLAR', 'LENGTH']` and `['BHID', 'AT', 'DIP', 'AZ']`. The collar field `'LENGTH'` is optional. \n",
    "Drillhole intervals tables are defined with DataFrames with fields `['BHID', 'FROM', 'TO',]`. \n",
    "Point or event data is not implemented in PyGSLIB but can be emulated with a zero length interval (`'FROM' == 'TO'`). \n"
   ]
  },
  {
   "cell_type": "code",
   "execution_count": 5,
   "metadata": {},
   "outputs": [],
   "source": [
    "# create drillhole object\n",
    "mydholes = pygslib.drillhole.Drillhole(collar, survey)   \n",
    "\n",
    "# add intervall table\n",
    "mydholes.addtable(table = assay, table_name = 'assay')  "
   ]
  },
  {
   "cell_type": "code",
   "execution_count": 6,
   "metadata": {},
   "outputs": [
    {
     "data": {
      "text/plain": [
       "{}"
      ]
     },
     "execution_count": 6,
     "metadata": {},
     "output_type": "execute_result"
    }
   ],
   "source": [
    "# validate drillhole (collar - survey)\n",
    "mydholes.validate()"
   ]
  },
  {
   "cell_type": "code",
   "execution_count": 7,
   "metadata": {},
   "outputs": [
    {
     "data": {
      "text/plain": [
       "{}"
      ]
     },
     "execution_count": 7,
     "metadata": {},
     "output_type": "execute_result"
    }
   ],
   "source": [
    "# validate a table \n",
    "mydholes.validate_table('assay')"
   ]
  },
  {
   "cell_type": "code",
   "execution_count": 8,
   "metadata": {},
   "outputs": [
    {
     "data": {
      "text/html": [
       "<div>\n",
       "<style scoped>\n",
       "    .dataframe tbody tr th:only-of-type {\n",
       "        vertical-align: middle;\n",
       "    }\n",
       "\n",
       "    .dataframe tbody tr th {\n",
       "        vertical-align: top;\n",
       "    }\n",
       "\n",
       "    .dataframe thead th {\n",
       "        text-align: right;\n",
       "    }\n",
       "</style>\n",
       "<table border=\"1\" class=\"dataframe\">\n",
       "  <thead>\n",
       "    <tr style=\"text-align: right;\">\n",
       "      <th></th>\n",
       "      <th>BHID</th>\n",
       "      <th>FROM</th>\n",
       "      <th>TO</th>\n",
       "      <th>Au</th>\n",
       "    </tr>\n",
       "  </thead>\n",
       "  <tbody>\n",
       "    <tr>\n",
       "      <th>0</th>\n",
       "      <td>0</td>\n",
       "      <td>0.0</td>\n",
       "      <td>1.0</td>\n",
       "      <td>0.0</td>\n",
       "    </tr>\n",
       "    <tr>\n",
       "      <th>1</th>\n",
       "      <td>0</td>\n",
       "      <td>1.0</td>\n",
       "      <td>2.0</td>\n",
       "      <td>0.0</td>\n",
       "    </tr>\n",
       "    <tr>\n",
       "      <th>2</th>\n",
       "      <td>0</td>\n",
       "      <td>2.0</td>\n",
       "      <td>3.0</td>\n",
       "      <td>0.0</td>\n",
       "    </tr>\n",
       "    <tr>\n",
       "      <th>3</th>\n",
       "      <td>0</td>\n",
       "      <td>3.0</td>\n",
       "      <td>4.0</td>\n",
       "      <td>0.0</td>\n",
       "    </tr>\n",
       "    <tr>\n",
       "      <th>4</th>\n",
       "      <td>0</td>\n",
       "      <td>4.0</td>\n",
       "      <td>5.0</td>\n",
       "      <td>0.0</td>\n",
       "    </tr>\n",
       "  </tbody>\n",
       "</table>\n",
       "</div>"
      ],
      "text/plain": [
       "  BHID  FROM   TO   Au\n",
       "0    0   0.0  1.0  0.0\n",
       "1    0   1.0  2.0  0.0\n",
       "2    0   2.0  3.0  0.0\n",
       "3    0   3.0  4.0  0.0\n",
       "4    0   4.0  5.0  0.0"
      ]
     },
     "execution_count": 8,
     "metadata": {},
     "output_type": "execute_result"
    }
   ],
   "source": [
    "# see assay table in the drillhole object\n",
    "mydholes.table['assay'].head(5)"
   ]
  },
  {
   "cell_type": "markdown",
   "metadata": {},
   "source": [
    "At this point, the assay has no coordinates. Coordinates of the center of the `FROM-TO` intervals (`xm, ym, zm`) are calculated with the function `desurvey_table`. If you set `endpoints=True`, the coordinates of the endpoints (`xb, yb, zb` and `xe, ye, ze`) will also be calculated. These are required to export the drillholes to VTK/Paraview, and for that reason, `endpoints=True` is the default value. \n",
    "Older versions of PyGSLIB used the function `desurvey`. This function is deprecated and has bugs. "
   ]
  },
  {
   "cell_type": "code",
   "execution_count": 9,
   "metadata": {},
   "outputs": [],
   "source": [
    "# Desurvey\n",
    "mydholes.desurvey_table('assay')"
   ]
  },
  {
   "cell_type": "code",
   "execution_count": 10,
   "metadata": {},
   "outputs": [
    {
     "data": {
      "text/html": [
       "<div>\n",
       "<style scoped>\n",
       "    .dataframe tbody tr th:only-of-type {\n",
       "        vertical-align: middle;\n",
       "    }\n",
       "\n",
       "    .dataframe tbody tr th {\n",
       "        vertical-align: top;\n",
       "    }\n",
       "\n",
       "    .dataframe thead th {\n",
       "        text-align: right;\n",
       "    }\n",
       "</style>\n",
       "<table border=\"1\" class=\"dataframe\">\n",
       "  <thead>\n",
       "    <tr style=\"text-align: right;\">\n",
       "      <th></th>\n",
       "      <th>BHID</th>\n",
       "      <th>FROM</th>\n",
       "      <th>TO</th>\n",
       "      <th>Au</th>\n",
       "      <th>xb</th>\n",
       "      <th>yb</th>\n",
       "      <th>zb</th>\n",
       "      <th>xe</th>\n",
       "      <th>ye</th>\n",
       "      <th>ze</th>\n",
       "      <th>xm</th>\n",
       "      <th>ym</th>\n",
       "      <th>zm</th>\n",
       "      <th>azmb</th>\n",
       "      <th>dipb</th>\n",
       "      <th>azme</th>\n",
       "      <th>dipe</th>\n",
       "      <th>azmm</th>\n",
       "      <th>dipm</th>\n",
       "    </tr>\n",
       "  </thead>\n",
       "  <tbody>\n",
       "    <tr>\n",
       "      <th>0</th>\n",
       "      <td>0</td>\n",
       "      <td>0.0</td>\n",
       "      <td>1.0</td>\n",
       "      <td>0.0</td>\n",
       "      <td>4.533054</td>\n",
       "      <td>0.000000e+00</td>\n",
       "      <td>99.727177</td>\n",
       "      <td>4.589326</td>\n",
       "      <td>-2.459751e-09</td>\n",
       "      <td>98.728762</td>\n",
       "      <td>4.561190</td>\n",
       "      <td>-1.229899e-09</td>\n",
       "      <td>99.227970</td>\n",
       "      <td>90.0</td>\n",
       "      <td>86.774086</td>\n",
       "      <td>90.0</td>\n",
       "      <td>86.774147</td>\n",
       "      <td>90.0</td>\n",
       "      <td>86.774025</td>\n",
       "    </tr>\n",
       "    <tr>\n",
       "      <th>1</th>\n",
       "      <td>0</td>\n",
       "      <td>1.0</td>\n",
       "      <td>2.0</td>\n",
       "      <td>0.0</td>\n",
       "      <td>4.589326</td>\n",
       "      <td>-2.459751e-09</td>\n",
       "      <td>98.728762</td>\n",
       "      <td>4.645600</td>\n",
       "      <td>-4.919549e-09</td>\n",
       "      <td>97.730347</td>\n",
       "      <td>4.617462</td>\n",
       "      <td>-3.689627e-09</td>\n",
       "      <td>98.229554</td>\n",
       "      <td>90.0</td>\n",
       "      <td>86.774147</td>\n",
       "      <td>90.0</td>\n",
       "      <td>86.774086</td>\n",
       "      <td>90.0</td>\n",
       "      <td>86.774147</td>\n",
       "    </tr>\n",
       "    <tr>\n",
       "      <th>2</th>\n",
       "      <td>0</td>\n",
       "      <td>2.0</td>\n",
       "      <td>3.0</td>\n",
       "      <td>0.0</td>\n",
       "      <td>4.645600</td>\n",
       "      <td>-4.919549e-09</td>\n",
       "      <td>97.730347</td>\n",
       "      <td>4.701874</td>\n",
       "      <td>-7.379393e-09</td>\n",
       "      <td>96.731931</td>\n",
       "      <td>4.673736</td>\n",
       "      <td>-6.149436e-09</td>\n",
       "      <td>97.231139</td>\n",
       "      <td>90.0</td>\n",
       "      <td>86.774086</td>\n",
       "      <td>90.0</td>\n",
       "      <td>86.774025</td>\n",
       "      <td>90.0</td>\n",
       "      <td>86.774086</td>\n",
       "    </tr>\n",
       "    <tr>\n",
       "      <th>3</th>\n",
       "      <td>0</td>\n",
       "      <td>3.0</td>\n",
       "      <td>4.0</td>\n",
       "      <td>0.0</td>\n",
       "      <td>4.701874</td>\n",
       "      <td>-7.379393e-09</td>\n",
       "      <td>96.731931</td>\n",
       "      <td>4.758146</td>\n",
       "      <td>-9.839098e-09</td>\n",
       "      <td>95.733516</td>\n",
       "      <td>4.730009</td>\n",
       "      <td>-8.609210e-09</td>\n",
       "      <td>96.232723</td>\n",
       "      <td>90.0</td>\n",
       "      <td>86.774025</td>\n",
       "      <td>90.0</td>\n",
       "      <td>86.774086</td>\n",
       "      <td>90.0</td>\n",
       "      <td>86.774086</td>\n",
       "    </tr>\n",
       "    <tr>\n",
       "      <th>4</th>\n",
       "      <td>0</td>\n",
       "      <td>4.0</td>\n",
       "      <td>5.0</td>\n",
       "      <td>0.0</td>\n",
       "      <td>4.758146</td>\n",
       "      <td>-9.839098e-09</td>\n",
       "      <td>95.733516</td>\n",
       "      <td>4.814419</td>\n",
       "      <td>-1.229887e-08</td>\n",
       "      <td>94.735100</td>\n",
       "      <td>4.786282</td>\n",
       "      <td>-1.106898e-08</td>\n",
       "      <td>95.234308</td>\n",
       "      <td>90.0</td>\n",
       "      <td>86.774086</td>\n",
       "      <td>90.0</td>\n",
       "      <td>86.774086</td>\n",
       "      <td>90.0</td>\n",
       "      <td>86.774086</td>\n",
       "    </tr>\n",
       "  </tbody>\n",
       "</table>\n",
       "</div>"
      ],
      "text/plain": [
       "  BHID  FROM   TO   Au        xb            yb         zb        xe  \\\n",
       "0    0   0.0  1.0  0.0  4.533054  0.000000e+00  99.727177  4.589326   \n",
       "1    0   1.0  2.0  0.0  4.589326 -2.459751e-09  98.728762  4.645600   \n",
       "2    0   2.0  3.0  0.0  4.645600 -4.919549e-09  97.730347  4.701874   \n",
       "3    0   3.0  4.0  0.0  4.701874 -7.379393e-09  96.731931  4.758146   \n",
       "4    0   4.0  5.0  0.0  4.758146 -9.839098e-09  95.733516  4.814419   \n",
       "\n",
       "             ye         ze        xm            ym         zm  azmb  \\\n",
       "0 -2.459751e-09  98.728762  4.561190 -1.229899e-09  99.227970  90.0   \n",
       "1 -4.919549e-09  97.730347  4.617462 -3.689627e-09  98.229554  90.0   \n",
       "2 -7.379393e-09  96.731931  4.673736 -6.149436e-09  97.231139  90.0   \n",
       "3 -9.839098e-09  95.733516  4.730009 -8.609210e-09  96.232723  90.0   \n",
       "4 -1.229887e-08  94.735100  4.786282 -1.106898e-08  95.234308  90.0   \n",
       "\n",
       "        dipb  azme       dipe  azmm       dipm  \n",
       "0  86.774086  90.0  86.774147  90.0  86.774025  \n",
       "1  86.774147  90.0  86.774086  90.0  86.774147  \n",
       "2  86.774086  90.0  86.774025  90.0  86.774086  \n",
       "3  86.774025  90.0  86.774086  90.0  86.774086  \n",
       "4  86.774086  90.0  86.774086  90.0  86.774086  "
      ]
     },
     "execution_count": 10,
     "metadata": {},
     "output_type": "execute_result"
    }
   ],
   "source": [
    "# Note: `mydholes.table['assay']` is a pandas DataFrame, you can save it using the function DataFrame.to_csv or DataFrameto_excel. \n",
    "mydholes.table['assay'].head(5)"
   ]
  },
  {
   "cell_type": "code",
   "execution_count": 11,
   "metadata": {},
   "outputs": [],
   "source": [
    "# Export drillhole as vtk file\n",
    "mydholes.intervals2vtk(table_name= 'assay', filename= 'assay')"
   ]
  },
  {
   "cell_type": "markdown",
   "metadata": {
    "tags": []
   },
   "source": [
    "The function above saves the drillholes as a VTK PolyData file in xml format. You can now visualize the data in Paraview as shown in Fig 1.  "
   ]
  },
  {
   "cell_type": "markdown",
   "metadata": {},
   "source": [
    "### Tag drillholes with domain (wireframe solid)\n",
    "PyGslib uses VTK Polydata to define geological domains. The easy way of selecting samples and creating block models is using closed wireframes. However, overlaps and holes in the wireframes may create unexpected results. To work with non-closed surfaces, see the functions `vtk_raycasting` and `pointquering` in the `pygslib.vtktools` submodule. "
   ]
  },
  {
   "cell_type": "code",
   "execution_count": 12,
   "metadata": {},
   "outputs": [],
   "source": [
    "# import wireframe\n",
    "dom1_poly= pygslib.vtktools.loadVTP('data/dom1.vtp')\n",
    "\n",
    "# create a selection array to tag samples in domain1 (inside1 is an array of zeros and ones with C dtype=uint8)\n",
    "inside1=pygslib.vtktools.pointinsolid(dom1_poly, \n",
    "                       x=mydholes.table['assay']['xm'].values, # .values this extracts numpy array from pandas\n",
    "                       y=mydholes.table['assay']['ym'].values, \n",
    "                       z=mydholes.table['assay']['zm'].values)\n",
    "\n",
    "# creating a new domain field \n",
    "mydholes.table['assay']['Domain1']=inside1.astype(int) # .astype(int) makes it a python integer (usually a C signed long) \n",
    "\n",
    "# Export (and overwrite) drillhole as vtk file\n",
    "mydholes.intervals2vtk(table_name= 'assay', filename= 'assay')"
   ]
  },
  {
   "cell_type": "code",
   "execution_count": 13,
   "metadata": {},
   "outputs": [
    {
     "data": {
      "text/html": [
       "<div>\n",
       "<style scoped>\n",
       "    .dataframe tbody tr th:only-of-type {\n",
       "        vertical-align: middle;\n",
       "    }\n",
       "\n",
       "    .dataframe tbody tr th {\n",
       "        vertical-align: top;\n",
       "    }\n",
       "\n",
       "    .dataframe thead th {\n",
       "        text-align: right;\n",
       "    }\n",
       "</style>\n",
       "<table border=\"1\" class=\"dataframe\">\n",
       "  <thead>\n",
       "    <tr style=\"text-align: right;\">\n",
       "      <th></th>\n",
       "      <th>BHID</th>\n",
       "      <th>FROM</th>\n",
       "      <th>TO</th>\n",
       "      <th>Au</th>\n",
       "      <th>xm</th>\n",
       "      <th>ym</th>\n",
       "      <th>zm</th>\n",
       "      <th>Domain1</th>\n",
       "    </tr>\n",
       "  </thead>\n",
       "  <tbody>\n",
       "    <tr>\n",
       "      <th>1351</th>\n",
       "      <td>28</td>\n",
       "      <td>0.0</td>\n",
       "      <td>1.0</td>\n",
       "      <td>0.000000</td>\n",
       "      <td>157.153764</td>\n",
       "      <td>200.0</td>\n",
       "      <td>88.908026</td>\n",
       "      <td>0</td>\n",
       "    </tr>\n",
       "    <tr>\n",
       "      <th>1352</th>\n",
       "      <td>28</td>\n",
       "      <td>1.0</td>\n",
       "      <td>2.0</td>\n",
       "      <td>0.000000</td>\n",
       "      <td>157.285403</td>\n",
       "      <td>200.0</td>\n",
       "      <td>87.916729</td>\n",
       "      <td>0</td>\n",
       "    </tr>\n",
       "    <tr>\n",
       "      <th>1353</th>\n",
       "      <td>28</td>\n",
       "      <td>2.0</td>\n",
       "      <td>3.0</td>\n",
       "      <td>0.000000</td>\n",
       "      <td>157.417041</td>\n",
       "      <td>200.0</td>\n",
       "      <td>86.925431</td>\n",
       "      <td>0</td>\n",
       "    </tr>\n",
       "    <tr>\n",
       "      <th>1354</th>\n",
       "      <td>28</td>\n",
       "      <td>3.0</td>\n",
       "      <td>4.0</td>\n",
       "      <td>0.000000</td>\n",
       "      <td>157.548679</td>\n",
       "      <td>200.0</td>\n",
       "      <td>85.934133</td>\n",
       "      <td>0</td>\n",
       "    </tr>\n",
       "    <tr>\n",
       "      <th>1355</th>\n",
       "      <td>28</td>\n",
       "      <td>4.0</td>\n",
       "      <td>5.0</td>\n",
       "      <td>0.000000</td>\n",
       "      <td>157.680318</td>\n",
       "      <td>200.0</td>\n",
       "      <td>84.942835</td>\n",
       "      <td>0</td>\n",
       "    </tr>\n",
       "    <tr>\n",
       "      <th>1356</th>\n",
       "      <td>28</td>\n",
       "      <td>5.0</td>\n",
       "      <td>6.0</td>\n",
       "      <td>0.000000</td>\n",
       "      <td>157.811958</td>\n",
       "      <td>200.0</td>\n",
       "      <td>83.951538</td>\n",
       "      <td>0</td>\n",
       "    </tr>\n",
       "    <tr>\n",
       "      <th>1357</th>\n",
       "      <td>28</td>\n",
       "      <td>6.0</td>\n",
       "      <td>7.0</td>\n",
       "      <td>0.000000</td>\n",
       "      <td>157.943595</td>\n",
       "      <td>200.0</td>\n",
       "      <td>82.960240</td>\n",
       "      <td>0</td>\n",
       "    </tr>\n",
       "    <tr>\n",
       "      <th>1358</th>\n",
       "      <td>28</td>\n",
       "      <td>7.0</td>\n",
       "      <td>8.0</td>\n",
       "      <td>0.000000</td>\n",
       "      <td>158.075232</td>\n",
       "      <td>200.0</td>\n",
       "      <td>81.968942</td>\n",
       "      <td>0</td>\n",
       "    </tr>\n",
       "    <tr>\n",
       "      <th>1359</th>\n",
       "      <td>28</td>\n",
       "      <td>8.0</td>\n",
       "      <td>9.0</td>\n",
       "      <td>0.000000</td>\n",
       "      <td>158.206872</td>\n",
       "      <td>200.0</td>\n",
       "      <td>80.977644</td>\n",
       "      <td>0</td>\n",
       "    </tr>\n",
       "    <tr>\n",
       "      <th>1360</th>\n",
       "      <td>28</td>\n",
       "      <td>9.0</td>\n",
       "      <td>10.0</td>\n",
       "      <td>0.000000</td>\n",
       "      <td>158.338513</td>\n",
       "      <td>200.0</td>\n",
       "      <td>79.986346</td>\n",
       "      <td>0</td>\n",
       "    </tr>\n",
       "    <tr>\n",
       "      <th>1361</th>\n",
       "      <td>28</td>\n",
       "      <td>10.0</td>\n",
       "      <td>11.0</td>\n",
       "      <td>0.000000</td>\n",
       "      <td>158.470149</td>\n",
       "      <td>200.0</td>\n",
       "      <td>78.995049</td>\n",
       "      <td>0</td>\n",
       "    </tr>\n",
       "    <tr>\n",
       "      <th>1362</th>\n",
       "      <td>28</td>\n",
       "      <td>11.0</td>\n",
       "      <td>12.0</td>\n",
       "      <td>0.634026</td>\n",
       "      <td>158.601791</td>\n",
       "      <td>200.0</td>\n",
       "      <td>78.003751</td>\n",
       "      <td>1</td>\n",
       "    </tr>\n",
       "    <tr>\n",
       "      <th>1363</th>\n",
       "      <td>28</td>\n",
       "      <td>12.0</td>\n",
       "      <td>13.0</td>\n",
       "      <td>1.376354</td>\n",
       "      <td>158.733921</td>\n",
       "      <td>200.0</td>\n",
       "      <td>77.012519</td>\n",
       "      <td>1</td>\n",
       "    </tr>\n",
       "    <tr>\n",
       "      <th>1364</th>\n",
       "      <td>28</td>\n",
       "      <td>13.0</td>\n",
       "      <td>14.0</td>\n",
       "      <td>0.949915</td>\n",
       "      <td>158.868577</td>\n",
       "      <td>200.0</td>\n",
       "      <td>76.021627</td>\n",
       "      <td>1</td>\n",
       "    </tr>\n",
       "    <tr>\n",
       "      <th>1365</th>\n",
       "      <td>28</td>\n",
       "      <td>14.0</td>\n",
       "      <td>15.0</td>\n",
       "      <td>2.452370</td>\n",
       "      <td>159.005904</td>\n",
       "      <td>200.0</td>\n",
       "      <td>75.031102</td>\n",
       "      <td>1</td>\n",
       "    </tr>\n",
       "    <tr>\n",
       "      <th>1366</th>\n",
       "      <td>28</td>\n",
       "      <td>15.0</td>\n",
       "      <td>16.0</td>\n",
       "      <td>1.503281</td>\n",
       "      <td>159.145826</td>\n",
       "      <td>200.0</td>\n",
       "      <td>74.040940</td>\n",
       "      <td>1</td>\n",
       "    </tr>\n",
       "    <tr>\n",
       "      <th>1367</th>\n",
       "      <td>28</td>\n",
       "      <td>16.0</td>\n",
       "      <td>17.0</td>\n",
       "      <td>0.000000</td>\n",
       "      <td>159.288270</td>\n",
       "      <td>200.0</td>\n",
       "      <td>73.051138</td>\n",
       "      <td>0</td>\n",
       "    </tr>\n",
       "    <tr>\n",
       "      <th>1368</th>\n",
       "      <td>28</td>\n",
       "      <td>17.0</td>\n",
       "      <td>18.0</td>\n",
       "      <td>0.000000</td>\n",
       "      <td>159.433173</td>\n",
       "      <td>200.0</td>\n",
       "      <td>72.061694</td>\n",
       "      <td>0</td>\n",
       "    </tr>\n",
       "    <tr>\n",
       "      <th>1369</th>\n",
       "      <td>28</td>\n",
       "      <td>18.0</td>\n",
       "      <td>19.0</td>\n",
       "      <td>0.000000</td>\n",
       "      <td>159.580823</td>\n",
       "      <td>200.0</td>\n",
       "      <td>71.072655</td>\n",
       "      <td>0</td>\n",
       "    </tr>\n",
       "    <tr>\n",
       "      <th>1370</th>\n",
       "      <td>28</td>\n",
       "      <td>19.0</td>\n",
       "      <td>20.0</td>\n",
       "      <td>0.000000</td>\n",
       "      <td>159.731331</td>\n",
       "      <td>200.0</td>\n",
       "      <td>70.084047</td>\n",
       "      <td>0</td>\n",
       "    </tr>\n",
       "    <tr>\n",
       "      <th>1371</th>\n",
       "      <td>28</td>\n",
       "      <td>20.0</td>\n",
       "      <td>21.0</td>\n",
       "      <td>0.000000</td>\n",
       "      <td>159.884498</td>\n",
       "      <td>200.0</td>\n",
       "      <td>69.095847</td>\n",
       "      <td>0</td>\n",
       "    </tr>\n",
       "    <tr>\n",
       "      <th>1372</th>\n",
       "      <td>28</td>\n",
       "      <td>21.0</td>\n",
       "      <td>22.0</td>\n",
       "      <td>0.000000</td>\n",
       "      <td>160.040255</td>\n",
       "      <td>200.0</td>\n",
       "      <td>68.108052</td>\n",
       "      <td>0</td>\n",
       "    </tr>\n",
       "    <tr>\n",
       "      <th>1373</th>\n",
       "      <td>28</td>\n",
       "      <td>22.0</td>\n",
       "      <td>23.0</td>\n",
       "      <td>0.000000</td>\n",
       "      <td>160.198539</td>\n",
       "      <td>200.0</td>\n",
       "      <td>67.120660</td>\n",
       "      <td>0</td>\n",
       "    </tr>\n",
       "    <tr>\n",
       "      <th>1374</th>\n",
       "      <td>28</td>\n",
       "      <td>23.0</td>\n",
       "      <td>24.0</td>\n",
       "      <td>0.000000</td>\n",
       "      <td>160.359291</td>\n",
       "      <td>200.0</td>\n",
       "      <td>66.133666</td>\n",
       "      <td>0</td>\n",
       "    </tr>\n",
       "    <tr>\n",
       "      <th>1375</th>\n",
       "      <td>28</td>\n",
       "      <td>24.0</td>\n",
       "      <td>25.0</td>\n",
       "      <td>0.000000</td>\n",
       "      <td>160.522801</td>\n",
       "      <td>200.0</td>\n",
       "      <td>65.147125</td>\n",
       "      <td>0</td>\n",
       "    </tr>\n",
       "    <tr>\n",
       "      <th>1376</th>\n",
       "      <td>28</td>\n",
       "      <td>25.0</td>\n",
       "      <td>26.0</td>\n",
       "      <td>0.000000</td>\n",
       "      <td>160.689123</td>\n",
       "      <td>200.0</td>\n",
       "      <td>64.161054</td>\n",
       "      <td>0</td>\n",
       "    </tr>\n",
       "    <tr>\n",
       "      <th>1377</th>\n",
       "      <td>28</td>\n",
       "      <td>26.0</td>\n",
       "      <td>27.0</td>\n",
       "      <td>0.000000</td>\n",
       "      <td>160.858093</td>\n",
       "      <td>200.0</td>\n",
       "      <td>63.175433</td>\n",
       "      <td>0</td>\n",
       "    </tr>\n",
       "    <tr>\n",
       "      <th>1378</th>\n",
       "      <td>28</td>\n",
       "      <td>27.0</td>\n",
       "      <td>28.0</td>\n",
       "      <td>0.000000</td>\n",
       "      <td>161.029650</td>\n",
       "      <td>200.0</td>\n",
       "      <td>62.190260</td>\n",
       "      <td>0</td>\n",
       "    </tr>\n",
       "    <tr>\n",
       "      <th>1379</th>\n",
       "      <td>28</td>\n",
       "      <td>28.0</td>\n",
       "      <td>29.0</td>\n",
       "      <td>0.000000</td>\n",
       "      <td>161.203733</td>\n",
       "      <td>200.0</td>\n",
       "      <td>61.205529</td>\n",
       "      <td>0</td>\n",
       "    </tr>\n",
       "    <tr>\n",
       "      <th>1380</th>\n",
       "      <td>28</td>\n",
       "      <td>29.0</td>\n",
       "      <td>30.0</td>\n",
       "      <td>0.000000</td>\n",
       "      <td>161.380290</td>\n",
       "      <td>200.0</td>\n",
       "      <td>60.221241</td>\n",
       "      <td>0</td>\n",
       "    </tr>\n",
       "  </tbody>\n",
       "</table>\n",
       "</div>"
      ],
      "text/plain": [
       "     BHID  FROM    TO        Au          xm     ym         zm  Domain1\n",
       "1351   28   0.0   1.0  0.000000  157.153764  200.0  88.908026        0\n",
       "1352   28   1.0   2.0  0.000000  157.285403  200.0  87.916729        0\n",
       "1353   28   2.0   3.0  0.000000  157.417041  200.0  86.925431        0\n",
       "1354   28   3.0   4.0  0.000000  157.548679  200.0  85.934133        0\n",
       "1355   28   4.0   5.0  0.000000  157.680318  200.0  84.942835        0\n",
       "1356   28   5.0   6.0  0.000000  157.811958  200.0  83.951538        0\n",
       "1357   28   6.0   7.0  0.000000  157.943595  200.0  82.960240        0\n",
       "1358   28   7.0   8.0  0.000000  158.075232  200.0  81.968942        0\n",
       "1359   28   8.0   9.0  0.000000  158.206872  200.0  80.977644        0\n",
       "1360   28   9.0  10.0  0.000000  158.338513  200.0  79.986346        0\n",
       "1361   28  10.0  11.0  0.000000  158.470149  200.0  78.995049        0\n",
       "1362   28  11.0  12.0  0.634026  158.601791  200.0  78.003751        1\n",
       "1363   28  12.0  13.0  1.376354  158.733921  200.0  77.012519        1\n",
       "1364   28  13.0  14.0  0.949915  158.868577  200.0  76.021627        1\n",
       "1365   28  14.0  15.0  2.452370  159.005904  200.0  75.031102        1\n",
       "1366   28  15.0  16.0  1.503281  159.145826  200.0  74.040940        1\n",
       "1367   28  16.0  17.0  0.000000  159.288270  200.0  73.051138        0\n",
       "1368   28  17.0  18.0  0.000000  159.433173  200.0  72.061694        0\n",
       "1369   28  18.0  19.0  0.000000  159.580823  200.0  71.072655        0\n",
       "1370   28  19.0  20.0  0.000000  159.731331  200.0  70.084047        0\n",
       "1371   28  20.0  21.0  0.000000  159.884498  200.0  69.095847        0\n",
       "1372   28  21.0  22.0  0.000000  160.040255  200.0  68.108052        0\n",
       "1373   28  22.0  23.0  0.000000  160.198539  200.0  67.120660        0\n",
       "1374   28  23.0  24.0  0.000000  160.359291  200.0  66.133666        0\n",
       "1375   28  24.0  25.0  0.000000  160.522801  200.0  65.147125        0\n",
       "1376   28  25.0  26.0  0.000000  160.689123  200.0  64.161054        0\n",
       "1377   28  26.0  27.0  0.000000  160.858093  200.0  63.175433        0\n",
       "1378   28  27.0  28.0  0.000000  161.029650  200.0  62.190260        0\n",
       "1379   28  28.0  29.0  0.000000  161.203733  200.0  61.205529        0\n",
       "1380   28  29.0  30.0  0.000000  161.380290  200.0  60.221241        0"
      ]
     },
     "execution_count": 13,
     "metadata": {},
     "output_type": "execute_result"
    }
   ],
   "source": [
    "# see drillhole 28 using pandas filters (.loc)\n",
    "mydholes.table['assay'].loc[mydholes.table['assay']['BHID']=='28',['BHID', 'FROM', 'TO', 'Au', 'xm', 'ym', 'zm', 'Domain1']]"
   ]
  },
  {
   "cell_type": "markdown",
   "metadata": {},
   "source": [
    "###  Composite\n",
    "Composite drillholes at 1m intervals"
   ]
  },
  {
   "cell_type": "code",
   "execution_count": 14,
   "metadata": {},
   "outputs": [],
   "source": [
    "# extract samples from domain 1 and add it as a new table\n",
    "mydholes.addtable(mydholes.table['assay'].loc[mydholes.table['assay']['Domain1']==1, :], 'assay_d1', overwrite = True)\n",
    "\n",
    "# composite only using samples in Dom1\n",
    "mydholes.downh_composite('assay_d1','Au', 'cmp', cint = 1, overwrite = True)\n",
    "\n",
    "# need to desurvey cmp\n",
    "mydholes.desurvey_table('cmp')\n",
    "\n",
    "# Export drillhole as vtk file\n",
    "mydholes.intervals2vtk(table_name= 'cmp', filename= 'cmp')"
   ]
  },
  {
   "cell_type": "markdown",
   "metadata": {},
   "source": [
    "PyGslib uses a peculiar way of compositing. It cuts intervals from top to bottom so composites from different interval tables can be linked using the `BHID`,  `FROM` and `TO` intervals.  \n",
    "Residuals located at the contact between wireframes will get a fake `FROM` or `TO`, and can be recognized by the sample length field `_len`. Compositing across multiple domains may create false duplicated `BHID`,  `FROM` and `TO` intervals. \n",
    "The field `_acum` is the accumulated `grade * _len` composited. "
   ]
  },
  {
   "cell_type": "code",
   "execution_count": 15,
   "metadata": {},
   "outputs": [
    {
     "data": {
      "text/html": [
       "<div>\n",
       "<style scoped>\n",
       "    .dataframe tbody tr th:only-of-type {\n",
       "        vertical-align: middle;\n",
       "    }\n",
       "\n",
       "    .dataframe tbody tr th {\n",
       "        vertical-align: top;\n",
       "    }\n",
       "\n",
       "    .dataframe thead th {\n",
       "        text-align: right;\n",
       "    }\n",
       "</style>\n",
       "<table border=\"1\" class=\"dataframe\">\n",
       "  <thead>\n",
       "    <tr style=\"text-align: right;\">\n",
       "      <th></th>\n",
       "      <th>BHID</th>\n",
       "      <th>FROM</th>\n",
       "      <th>TO</th>\n",
       "      <th>_len</th>\n",
       "      <th>Au</th>\n",
       "      <th>_acum</th>\n",
       "      <th>xb</th>\n",
       "      <th>yb</th>\n",
       "      <th>zb</th>\n",
       "    </tr>\n",
       "  </thead>\n",
       "  <tbody>\n",
       "    <tr>\n",
       "      <th>0</th>\n",
       "      <td>0</td>\n",
       "      <td>53.0</td>\n",
       "      <td>54.0</td>\n",
       "      <td>1.0</td>\n",
       "      <td>0.554726</td>\n",
       "      <td>0.554726</td>\n",
       "      <td>14.236269</td>\n",
       "      <td>-4.241410e-07</td>\n",
       "      <td>47.842266</td>\n",
       "    </tr>\n",
       "    <tr>\n",
       "      <th>1</th>\n",
       "      <td>0</td>\n",
       "      <td>54.0</td>\n",
       "      <td>55.0</td>\n",
       "      <td>1.0</td>\n",
       "      <td>1.083848</td>\n",
       "      <td>1.083848</td>\n",
       "      <td>14.576479</td>\n",
       "      <td>-4.390121e-07</td>\n",
       "      <td>46.901919</td>\n",
       "    </tr>\n",
       "    <tr>\n",
       "      <th>2</th>\n",
       "      <td>0</td>\n",
       "      <td>55.0</td>\n",
       "      <td>56.0</td>\n",
       "      <td>1.0</td>\n",
       "      <td>3.343537</td>\n",
       "      <td>3.343537</td>\n",
       "      <td>14.922526</td>\n",
       "      <td>-4.541383e-07</td>\n",
       "      <td>45.963703</td>\n",
       "    </tr>\n",
       "    <tr>\n",
       "      <th>3</th>\n",
       "      <td>0</td>\n",
       "      <td>56.0</td>\n",
       "      <td>57.0</td>\n",
       "      <td>1.0</td>\n",
       "      <td>3.343537</td>\n",
       "      <td>3.343537</td>\n",
       "      <td>15.274222</td>\n",
       "      <td>-4.695114e-07</td>\n",
       "      <td>45.027591</td>\n",
       "    </tr>\n",
       "    <tr>\n",
       "      <th>4</th>\n",
       "      <td>0</td>\n",
       "      <td>57.0</td>\n",
       "      <td>58.0</td>\n",
       "      <td>1.0</td>\n",
       "      <td>2.343359</td>\n",
       "      <td>2.343359</td>\n",
       "      <td>15.631546</td>\n",
       "      <td>-4.851305e-07</td>\n",
       "      <td>44.093613</td>\n",
       "    </tr>\n",
       "    <tr>\n",
       "      <th>...</th>\n",
       "      <td>...</td>\n",
       "      <td>...</td>\n",
       "      <td>...</td>\n",
       "      <td>...</td>\n",
       "      <td>...</td>\n",
       "      <td>...</td>\n",
       "      <td>...</td>\n",
       "      <td>...</td>\n",
       "      <td>...</td>\n",
       "    </tr>\n",
       "    <tr>\n",
       "      <th>365</th>\n",
       "      <td>9</td>\n",
       "      <td>40.0</td>\n",
       "      <td>41.0</td>\n",
       "      <td>1.0</td>\n",
       "      <td>0.895752</td>\n",
       "      <td>0.895752</td>\n",
       "      <td>131.730068</td>\n",
       "      <td>5.000000e+01</td>\n",
       "      <td>62.962617</td>\n",
       "    </tr>\n",
       "    <tr>\n",
       "      <th>366</th>\n",
       "      <td>9</td>\n",
       "      <td>41.0</td>\n",
       "      <td>42.0</td>\n",
       "      <td>1.0</td>\n",
       "      <td>2.067564</td>\n",
       "      <td>2.067564</td>\n",
       "      <td>131.900121</td>\n",
       "      <td>5.000000e+01</td>\n",
       "      <td>61.977184</td>\n",
       "    </tr>\n",
       "    <tr>\n",
       "      <th>367</th>\n",
       "      <td>9</td>\n",
       "      <td>42.0</td>\n",
       "      <td>43.0</td>\n",
       "      <td>1.0</td>\n",
       "      <td>2.067564</td>\n",
       "      <td>2.067564</td>\n",
       "      <td>132.071986</td>\n",
       "      <td>5.000000e+01</td>\n",
       "      <td>60.992065</td>\n",
       "    </tr>\n",
       "    <tr>\n",
       "      <th>368</th>\n",
       "      <td>9</td>\n",
       "      <td>43.0</td>\n",
       "      <td>44.0</td>\n",
       "      <td>1.0</td>\n",
       "      <td>1.500111</td>\n",
       "      <td>1.500111</td>\n",
       "      <td>132.246050</td>\n",
       "      <td>5.000000e+01</td>\n",
       "      <td>60.007331</td>\n",
       "    </tr>\n",
       "    <tr>\n",
       "      <th>369</th>\n",
       "      <td>9</td>\n",
       "      <td>44.0</td>\n",
       "      <td>45.0</td>\n",
       "      <td>1.0</td>\n",
       "      <td>0.424451</td>\n",
       "      <td>0.424451</td>\n",
       "      <td>132.422202</td>\n",
       "      <td>5.000000e+01</td>\n",
       "      <td>59.022968</td>\n",
       "    </tr>\n",
       "  </tbody>\n",
       "</table>\n",
       "<p>370 rows × 9 columns</p>\n",
       "</div>"
      ],
      "text/plain": [
       "    BHID  FROM    TO  _len        Au     _acum          xb            yb  \\\n",
       "0      0  53.0  54.0   1.0  0.554726  0.554726   14.236269 -4.241410e-07   \n",
       "1      0  54.0  55.0   1.0  1.083848  1.083848   14.576479 -4.390121e-07   \n",
       "2      0  55.0  56.0   1.0  3.343537  3.343537   14.922526 -4.541383e-07   \n",
       "3      0  56.0  57.0   1.0  3.343537  3.343537   15.274222 -4.695114e-07   \n",
       "4      0  57.0  58.0   1.0  2.343359  2.343359   15.631546 -4.851305e-07   \n",
       "..   ...   ...   ...   ...       ...       ...         ...           ...   \n",
       "365    9  40.0  41.0   1.0  0.895752  0.895752  131.730068  5.000000e+01   \n",
       "366    9  41.0  42.0   1.0  2.067564  2.067564  131.900121  5.000000e+01   \n",
       "367    9  42.0  43.0   1.0  2.067564  2.067564  132.071986  5.000000e+01   \n",
       "368    9  43.0  44.0   1.0  1.500111  1.500111  132.246050  5.000000e+01   \n",
       "369    9  44.0  45.0   1.0  0.424451  0.424451  132.422202  5.000000e+01   \n",
       "\n",
       "            zb  \n",
       "0    47.842266  \n",
       "1    46.901919  \n",
       "2    45.963703  \n",
       "3    45.027591  \n",
       "4    44.093613  \n",
       "..         ...  \n",
       "365  62.962617  \n",
       "366  61.977184  \n",
       "367  60.992065  \n",
       "368  60.007331  \n",
       "369  59.022968  \n",
       "\n",
       "[370 rows x 9 columns]"
      ]
     },
     "execution_count": 15,
     "metadata": {},
     "output_type": "execute_result"
    }
   ],
   "source": [
    "mydholes.table['cmp'][['BHID', 'FROM', 'TO', '_len', 'Au', '_acum', 'xb', 'yb', 'zb']]"
   ]
  },
  {
   "cell_type": "markdown",
   "metadata": {},
   "source": [
    "###  Create a block model with definition: \n",
    "\n",
    "Now we can create a block model with the following definition:  \n",
    "\n",
    "```\n",
    "xorg = 0\n",
    "yorg = 0\n",
    "zorg = 0\n",
    "dx = 10\n",
    "dy = 10\n",
    "dz = 10\n",
    "nx = 18\n",
    "ny = 20\n",
    "nz = 15\n",
    "\n",
    "```\n",
    "\n",
    "The `orig` coordinates are the lower left corners (not the centroid)\n"
   ]
  },
  {
   "cell_type": "code",
   "execution_count": 16,
   "metadata": {},
   "outputs": [],
   "source": [
    "#create an empty model\n",
    "mymodel = pygslib.blockmodel.Blockmodel(xorg = 0,\n",
    "                                        yorg = 0,\n",
    "                                        zorg = 0,\n",
    "                                        dx = 5,\n",
    "                                        dy = 5,\n",
    "                                        dz = 5,\n",
    "                                        nx = 36,\n",
    "                                        ny = 40,\n",
    "                                        nz = 30)\n",
    "\n",
    "#generate blocks and calculate percent in domain 1 (dom1_poly is a VTK polydata of a closed volume)\n",
    "_ = mymodel.fillwireframe(dom1_poly)\n",
    "\n",
    "# remove blocks out of domain 1 using pandas filter (mymodel.bmtable is a pandas dataframe)\n",
    "mymodel.set_blocks (mymodel.bmtable[mymodel.bmtable['__in']>0])\n",
    "\n",
    "# and save the model as vtkunestructured grid\n",
    "mymodel.blocks2vtkUnstructuredGrid('bmodel') # this will have extension vtu"
   ]
  },
  {
   "cell_type": "markdown",
   "metadata": {},
   "source": [
    "Now you may have a block model exported as VTK unstructured grid file that may look like the one in Fig1. \n",
    "\n",
    "The field `_in` indicates the approximated proportion inside the solid. This proportion has a resolution of 1/8. It is 1 if all 8 corners of the blocks are in the solid, 7/8 if only 7 corners are in the solid, and so on. The size of the block may impact the volume calculation, and large blocks in narrow domains may show zero proportion if the solids go through the block without touching the corners.  \n",
    "The function above also works with closed and non-overlapping solids. \n",
    "For narrow domains, large blocks, and open surfaces, use function `vtk_raycasting` implemented in the `pygslib.vtktools` submodule or use very small blocks and the `reblock` function. \n",
    "\n",
    "Building subcells style block models is on our TODO list but not implemented yet. \n",
    "\n",
    "Also, note that the block models have IJK code. This is ordered as GSLIB block models, with indices increasing from X, Y, Z. Note that Datamine's IJK is different. The `Blockmodel` class has functions to calculate column index, IJK and coordinates. IJK is heavily used for block model-related calculations. \n"
   ]
  },
  {
   "cell_type": "markdown",
   "metadata": {},
   "source": [
    "### Statistical analysis (no variography)\n",
    "\n",
    "Before interpolating we need some statistical analysis that will be used as input for model validation later. "
   ]
  },
  {
   "cell_type": "markdown",
   "metadata": {},
   "source": [
    "#### Declustering\n",
    "Declustering is not required since the drillhole spacing is regular (Fig 1). We show how it is calculated for completeness. "
   ]
  },
  {
   "cell_type": "code",
   "execution_count": 17,
   "metadata": {},
   "outputs": [
    {
     "data": {
      "image/png": "[encoded data removed]",
      "text/plain": [
       "<Figure size 432x288 with 1 Axes>"
      ]
     },
     "metadata": {
      "needs_background": "light"
     },
     "output_type": "display_data"
    },
    {
     "data": {
      "image/png": "[encoded data removed]",
      "text/plain": [
       "<Figure size 432x288 with 1 Axes>"
      ]
     },
     "metadata": {
      "needs_background": "light"
     },
     "output_type": "display_data"
    },
    {
     "data": {
      "image/png": "[encoded data removed]",
      "text/plain": [
       "<Figure size 432x288 with 1 Axes>"
      ]
     },
     "metadata": {
      "needs_background": "light"
     },
     "output_type": "display_data"
    }
   ],
   "source": [
    "#declustering parameters \n",
    "parameters_declus = { \n",
    "        'x'      :  mydholes.table['cmp'].loc[:, 'xm'], \n",
    "        'y'      :  mydholes.table['cmp'].loc[:, 'ym'],  \n",
    "        'z'      :  mydholes.table['cmp'].loc[:, 'zm'], \n",
    "        'vr'     :  mydholes.table['cmp'].loc[:, 'Au'],   \n",
    "        'anisy'  :  1.,       \n",
    "        'anisz'  :  1/30,     # the shorter nominal spacing between drillholes is 30 1/30 is 1m in isotropic distance    \n",
    "        'minmax' :  0,                 \n",
    "        'ncell'  :  100,                  \n",
    "        'cmin'   :  10., \n",
    "        'cmax'   :  100.,                 \n",
    "        'noff'   :  8,                    \n",
    "        'maxcel' :  -1}               \n",
    "\n",
    "# declustering \n",
    "wtopt,vrop,wtmin,wtmax,error, \\\n",
    "xinc,yinc,zinc,rxcs,rycs,rzcs,rvrcr = pygslib.gslib.declus(parameters_declus)\n",
    "\n",
    "#Plotting declustering optimization results\n",
    "plt.plot (rxcs, rvrcr, '-o')\n",
    "plt.xlabel('X cell size')\n",
    "plt.ylabel('declustered mean')\n",
    "plt.show()\n",
    "plt.plot (rycs, rvrcr, '-o')\n",
    "plt.xlabel('Y cell size')\n",
    "plt.ylabel('declustered mean')\n",
    "plt.show()\n",
    "plt.plot (rzcs, rvrcr, '-o')\n",
    "plt.xlabel('Z cell size')\n",
    "plt.ylabel('declustered mean')\n",
    "plt.show()"
   ]
  },
  {
   "cell_type": "markdown",
   "metadata": {},
   "source": [
    "Now we fix the cell size to 60 x 60 x 1 "
   ]
  },
  {
   "cell_type": "code",
   "execution_count": 18,
   "metadata": {},
   "outputs": [
    {
     "name": "stdout",
     "output_type": "stream",
     "text": [
      "declustered mean: 1.3074799124567966\n"
     ]
    }
   ],
   "source": [
    "#declustering parameters \n",
    "parameters_declus['ncell'] = 1\n",
    "parameters_declus['cmin'] = 60.\n",
    "parameters_declus['cmax'] = 60.\n",
    "parameters_declus['anisz'] = 1/60.\n",
    "# declustering \n",
    "wtopt,vrop,wtmin,wtmax,error, \\\n",
    "xinc,yinc,zinc,rxcs,rycs,rzcs,rvrcr = pygslib.gslib.declus(parameters_declus)\n",
    "\n",
    "# Adding declustering weight to a drillhole interval table\n",
    "mydholes.table['cmp']['declustwt'] = 1\n",
    "mydholes.table['cmp'].loc[:, 'declustwt'] = wtopt\n",
    "\n",
    "# calculating declustered mean\n",
    "decl_mean = rvrcr[0]\n",
    "\n",
    "print ('declustered mean:', decl_mean)"
   ]
  },
  {
   "cell_type": "code",
   "execution_count": 19,
   "metadata": {},
   "outputs": [
    {
     "data": {
      "text/plain": [
       "1.3279108768783785"
      ]
     },
     "execution_count": 19,
     "metadata": {},
     "output_type": "execute_result"
    }
   ],
   "source": [
    "mydholes.table['cmp']['Au'].mean()"
   ]
  },
  {
   "cell_type": "markdown",
   "metadata": {},
   "source": [
    "#### Variography\n",
    "\n",
    "For now use this variogram model"
   ]
  },
  {
   "cell_type": "markdown",
   "metadata": {},
   "source": [
    "In Pygslib: \n",
    "```\n",
    "vario_model = {\n",
    "            # Variogram parameters Pygslib\n",
    "            # ----------\n",
    "            'c0'         : 0.1,   \n",
    "            'it'         : [1],    # \n",
    "            'cc'         : [.9],     \n",
    "            'aa'         : [100],   \n",
    "            'aa1'        : [100],  \n",
    "            'aa2'        : [20],   \n",
    "            'ang1'       : [0],   \n",
    "            'ang2'       : [0],  \n",
    "            'ang3'       : [-15]}  \n",
    "\n",
    "```\n",
    "\n",
    "\n",
    "In gslib: \n",
    "\n",
    "```\n",
    "1    0.1                      -nst, nugget effect\n",
    "1    0.9  0.0   0.0  -15.0     -it,cc,ang1,ang2,ang3\n",
    "       100.0  100.0  20.0     -a_hmax, a_hmin, a_vert\n",
    "\n",
    "\n",
    "nst and c0: the number of variogram structures and the nugget\n",
    "it:  the type of structure\n",
    "cc:  the c parameter \"sill\"\n",
    "ang1,ang2,ang3: the angles defining the geometric anisotropy\n",
    "aa: also aa_hmax, the maximum horizontal range\n",
    "aa1: also aa_hmin, the minimum horizontal range\n",
    "aa2: also aa_vert, the vertical range\n",
    "\n",
    "\n",
    "it is \n",
    "\n",
    "1. Spherical (use actual range)\n",
    "2. Exponential (use practical range)\n",
    "3. Gaussian (use practical range)\n",
    "4. Power law variogram\n",
    "5. Cosine hole effect model\n",
    "\n",
    "\n",
    "```"
   ]
  },
  {
   "cell_type": "markdown",
   "metadata": {},
   "source": [
    "### Interpolation and validation"
   ]
  },
  {
   "cell_type": "code",
   "execution_count": 20,
   "metadata": {},
   "outputs": [],
   "source": [
    "# Creating BHID of type integer, this is to be able to use drillhole id in Fortran!\n",
    "# The old GSLIB KT3D was modified in PyGSLIB to restrict a minimum number of samples per drillholes. \n",
    "# The drillhole ID has to be an integer greater than zero.  \n",
    "# The function below generates the field `BHIDint` (the integer ID) for you.\n",
    "mydholes.txt2intID('cmp')"
   ]
  },
  {
   "cell_type": "code",
   "execution_count": 21,
   "metadata": {},
   "outputs": [
    {
     "data": {
      "text/html": [
       "<div>\n",
       "<style scoped>\n",
       "    .dataframe tbody tr th:only-of-type {\n",
       "        vertical-align: middle;\n",
       "    }\n",
       "\n",
       "    .dataframe tbody tr th {\n",
       "        vertical-align: top;\n",
       "    }\n",
       "\n",
       "    .dataframe thead th {\n",
       "        text-align: right;\n",
       "    }\n",
       "</style>\n",
       "<table border=\"1\" class=\"dataframe\">\n",
       "  <thead>\n",
       "    <tr style=\"text-align: right;\">\n",
       "      <th></th>\n",
       "      <th>BHID</th>\n",
       "      <th>BHIDint</th>\n",
       "      <th>FROM</th>\n",
       "      <th>TO</th>\n",
       "    </tr>\n",
       "  </thead>\n",
       "  <tbody>\n",
       "    <tr>\n",
       "      <th>0</th>\n",
       "      <td>0</td>\n",
       "      <td>1</td>\n",
       "      <td>53.0</td>\n",
       "      <td>54.0</td>\n",
       "    </tr>\n",
       "    <tr>\n",
       "      <th>1</th>\n",
       "      <td>0</td>\n",
       "      <td>1</td>\n",
       "      <td>54.0</td>\n",
       "      <td>55.0</td>\n",
       "    </tr>\n",
       "    <tr>\n",
       "      <th>2</th>\n",
       "      <td>0</td>\n",
       "      <td>1</td>\n",
       "      <td>55.0</td>\n",
       "      <td>56.0</td>\n",
       "    </tr>\n",
       "    <tr>\n",
       "      <th>3</th>\n",
       "      <td>0</td>\n",
       "      <td>1</td>\n",
       "      <td>56.0</td>\n",
       "      <td>57.0</td>\n",
       "    </tr>\n",
       "    <tr>\n",
       "      <th>4</th>\n",
       "      <td>0</td>\n",
       "      <td>1</td>\n",
       "      <td>57.0</td>\n",
       "      <td>58.0</td>\n",
       "    </tr>\n",
       "    <tr>\n",
       "      <th>...</th>\n",
       "      <td>...</td>\n",
       "      <td>...</td>\n",
       "      <td>...</td>\n",
       "      <td>...</td>\n",
       "    </tr>\n",
       "    <tr>\n",
       "      <th>365</th>\n",
       "      <td>9</td>\n",
       "      <td>29</td>\n",
       "      <td>40.0</td>\n",
       "      <td>41.0</td>\n",
       "    </tr>\n",
       "    <tr>\n",
       "      <th>366</th>\n",
       "      <td>9</td>\n",
       "      <td>29</td>\n",
       "      <td>41.0</td>\n",
       "      <td>42.0</td>\n",
       "    </tr>\n",
       "    <tr>\n",
       "      <th>367</th>\n",
       "      <td>9</td>\n",
       "      <td>29</td>\n",
       "      <td>42.0</td>\n",
       "      <td>43.0</td>\n",
       "    </tr>\n",
       "    <tr>\n",
       "      <th>368</th>\n",
       "      <td>9</td>\n",
       "      <td>29</td>\n",
       "      <td>43.0</td>\n",
       "      <td>44.0</td>\n",
       "    </tr>\n",
       "    <tr>\n",
       "      <th>369</th>\n",
       "      <td>9</td>\n",
       "      <td>29</td>\n",
       "      <td>44.0</td>\n",
       "      <td>45.0</td>\n",
       "    </tr>\n",
       "  </tbody>\n",
       "</table>\n",
       "<p>370 rows × 4 columns</p>\n",
       "</div>"
      ],
      "text/plain": [
       "    BHID  BHIDint  FROM    TO\n",
       "0      0        1  53.0  54.0\n",
       "1      0        1  54.0  55.0\n",
       "2      0        1  55.0  56.0\n",
       "3      0        1  56.0  57.0\n",
       "4      0        1  57.0  58.0\n",
       "..   ...      ...   ...   ...\n",
       "365    9       29  40.0  41.0\n",
       "366    9       29  41.0  42.0\n",
       "367    9       29  42.0  43.0\n",
       "368    9       29  43.0  44.0\n",
       "369    9       29  44.0  45.0\n",
       "\n",
       "[370 rows x 4 columns]"
      ]
     },
     "execution_count": 21,
     "metadata": {},
     "output_type": "execute_result"
    }
   ],
   "source": [
    "mydholes.table['cmp'][['BHID',  'BHIDint', 'FROM', 'TO']]"
   ]
  },
  {
   "cell_type": "markdown",
   "metadata": {},
   "source": [
    "The parameters for interpolation are passed as a python dictionary ({}). Some of the parameters are optional. \n",
    "You can get the list of parameters and a sample/template dictionary with the command \n",
    "`pygslib.gslib.kt3d.__doc__`"
   ]
  },
  {
   "cell_type": "code",
   "execution_count": 22,
   "metadata": {},
   "outputs": [
    {
     "name": "stdout",
     "output_type": "stream",
     "text": [
      "Estimates with the GSLIB program KT3D\n",
      "\n",
      "    This is a wrap for the GSLIB Fortran code of the program KT3D Version 2.0,\n",
      "    originally in Fortran 77. Only minor changes were included, the most\n",
      "    relevant are:\n",
      "\n",
      "     - support for maximum number of samples per drillhole was\n",
      "       implemented\n",
      "     - the direct file output was redirected to numpy arrays\n",
      "     - the input (for grid estimate) is now as numpy arrays.\n",
      "       The grid definition was retained because is an input\n",
      "       of the GSLIB search super-block algorithm.\n",
      "     - the trimming limits were removed; you may filter out\n",
      "       undesired values before estimating\n",
      "\n",
      "    Parameters\n",
      "    ----------\n",
      "        parameters  :  dict\n",
      "            dictionary with calculation parameters\n",
      "\n",
      "\n",
      "    The dictionary with parameters may be as follows::\n",
      "\n",
      "\n",
      "        kt3d_parameters = {\n",
      "            # Input Data\n",
      "            # ----------\n",
      "            'x' : ,   # 1D array('f'), x coordinates of input data\n",
      "            'y' : ,   # 1D array('f'), y coordinates of input data\n",
      "            'z' : ,   # 1D array('f'), z coordinates of input data\n",
      "            'vr' : ,   # 1D array('f'), primary variable\n",
      "            've' : ,   # (optional) 1D array('f'), extra variable, external drift\n",
      "            'bhidint': , #  (optional) 1D array('i'), drillhole ID, or fault zone ID\n",
      "            # Output grid definition (only used for superblock search, can use dummy values)\n",
      "            # ----------\n",
      "            'nx' : ,   # int, size of the grid\n",
      "            'ny' : ,   # int,\n",
      "            'nz' : ,   # int,\n",
      "            'xmn' : ,   # float, origing of coordinate\n",
      "            'ymn' : ,   # float,\n",
      "            'zmn' : ,   # float,\n",
      "            # Output data\n",
      "            # ----------\n",
      "            'xsiz' : ,   # float, block size in x\n",
      "            'ysiz' : ,   # float, block size in x\n",
      "            'zsiz' : ,   # float, block size in x\n",
      "            'nxdis' : ,   # int, number of discretization points in x\n",
      "            'nydis' : ,   # int, number of discretization points in y\n",
      "            'nzdis' : ,   # int, number of discretization points in z\n",
      "            'outx' : ,   # 1D array('f'), x coordinates of output data\n",
      "            'outy' : ,   # 1D array('f'), y coordinates of output data\n",
      "            'outz' : ,   # 1D array('f'), z coordinates of output data\n",
      "            'outextve' : ,   # 1D array('f') external drift in output data\n",
      "            # Search parameters\n",
      "            # ----------\n",
      "            'radius'     : ,   # float, search distance in direction 1\n",
      "            'radius1'    : ,   # float, search distance in direction 2\n",
      "            'radius2'    : ,   # float, search distance in direction 3\n",
      "            'ndmax'      : ,   # int, maximum number of points\n",
      "            'ndmin'      : ,   # int, minimum number of points\n",
      "            'noct'       : ,   # (optional) int, maximum number of samples per octant, if zero octans not used, default == 0\n",
      "            'nbhid'      : ,   # (optional) int, maximum number of samples from each drillhole, default not used == 0\n",
      "            'sang1'      : ,   # (optional) float, rotation angle 1\n",
      "            'sang2'      : ,   # (optional) float, rotation angle 1\n",
      "            'sang3'      : ,   # (optional) float, rotation angle 1\n",
      "            # Kriging parameters and options\n",
      "            # ----------\n",
      "            'idrif'      : ,   # (optional) array('i'), array of 9 indicators to use drift models\n",
      "            'itrend'     : ,   # (optional) int, if == 1 the trend will be estimated\n",
      "            'ktype'      : ,   # (optional) int, kriging type: 0 skmean, 1 ordinary kriging, 2 simple kriging with local means, 3 kriging with an external drift\n",
      "            'skmean'     : ,   # (optional) float, simple kriging mean for ktype = 0\n",
      "            'koption'    : ,   # (optional) int, set to 0 for kriging a grid of points or blocks, to 1 for cross validation with the data in datafl and to 2 for jackknifing\n",
      "            'iktype'     : ,   # (optional) int, median indicator kriging, default False = 0\n",
      "            'cut'        : ,   # (optional) 1D array('f'), thresholds for median indicator kriging, default = []\n",
      "            'idbg'       : ,   # (optional) int, debug ?, defaul False == 0\n",
      "            # Inverse of the power of the distance parameter\n",
      "            'id2power'   : ,   # (optional) float, inverse of the distance powe, defaul 2\n",
      "            # Variogram parameters\n",
      "            # ----------\n",
      "            'c0'         : ,   # float, nugget value\n",
      "            'it'         : ,   # array('i'), structures type, on for each structure: 1 Spherical, 2 Exponential, 3 Gaussian, 4 Power, 5 Cosine hole effect\n",
      "            'cc'         : ,   # array('f'), structures variance, one for each structure\n",
      "            'aa'         : ,   # array('f'), structures range/practical range in direction 1, one for each structure\n",
      "            'aa1'        : ,   # array('f'), structures range/practical range in direction 2, one for each structure\n",
      "            'aa2'        : ,   # array('f'), structures range/practical range in direction 3, one for each structure\n",
      "            'ang1'       : ,   # (optional) array('f'), rotation angle 1, one for each structure, defaul array of zeros\n",
      "            'ang2'       : ,   # (optional) array('f'), rotation angle 2, one for each structure, defaul array of zeros\n",
      "            'ang3'       : }   # (optional) array('f'), rotation angle 3, one for each structure, defaul array of zeros\n",
      "\n",
      "\n",
      "    the nine idrif[1,...,8] indicators terms are\n",
      "        idrif[0] linear drift in x\n",
      "        idrif[1] linear drift in y\n",
      "        idrif[2] linear drift in z\n",
      "        idrif[3] quadratic drift in x\n",
      "        idrif[4] quadratic drift in y\n",
      "        idrif[5] quadratic drift in z\n",
      "        idrif[6] cross quadratic drift in xy\n",
      "        idrif[7] cross quadratic drift in xz\n",
      "        idrif[8] cross quadratic drift in yz\n",
      "\n",
      "\n",
      "    Returns\n",
      "    -------\n",
      "    output :  dict, estimation results at target points/blocks\n",
      "    debug  :  debug output for the last block estimated\n",
      "    estimate : estimation summary\n",
      "\n",
      "\n",
      "    The estimation results ``output`` will be as follows:\n",
      "\n",
      "    If iktype=0 returns variable estimate as::\n",
      "\n",
      "        {'outest'    : ,  # kriging estimate\n",
      "        'outkvar'    : ,  # kriging variance\n",
      "        'outidpower' : ,  # inverse of the power of the distance estimate\n",
      "        'outnn'      : }  # nearest neightbor estimate\n",
      "\n",
      "        all these are rank-1 array('f') with bounds (nout)\n",
      "\n",
      "    If iktype=1 returns median indicator kriging estimate as::\n",
      "\n",
      "       {'outcdf'     : }  #rank-2 array('f') with bounds (nout,ncut)\n",
      "\n",
      "\n",
      "    The debug output ``debug`` will be only for the last block estimated\n",
      "    but calculated for all the blocks. Make sure to set ``idbg``\n",
      "    to zero for estimation in large models.\n",
      "\n",
      "    If idbg = 0 ``debug`` will be an empty dictionary.\n",
      "    If debug > 0 ``debug`` will be as follows::\n",
      "\n",
      "        {'cbb'       : ,  #float\n",
      "        'neq'        : ,  #int\n",
      "        'na'         : ,  #int\n",
      "        'dbgxdat'    : ,  #rank-1 array('f') with bounds (ndmax)\n",
      "        'dbgydat'    : ,  #rank-1 array('f') with bounds (ndmax)\n",
      "        'dbgzdat'    : ,  #rank-1 array('f') with bounds (ndmax)\n",
      "        'dbgvrdat'   : ,  #rank-1 array('f') with bounds (ndmax)\n",
      "        'dbgwt'      : ,  #rank-1 array('f') with bounds (ndmax + 11)\n",
      "        'dbgxtg'     : ,  #float\n",
      "        'dbgytg'     : ,  #float\n",
      "        'dbgztg'     : ,  #float\n",
      "        'dbgkvector' : ,  #rank-1 array('f') with bounds (ndmax + 11)\n",
      "        'dbgkmatrix' : ,\n",
      "        'ellipsoid'  :  } #vtkpolydata object with ellipsoid\n",
      "\n",
      "    The output ``estimate`` is to provide an estimation summary\n",
      "    but this is not implemented yet.\n",
      "\n",
      "\n",
      "    Note\n",
      "    -----\n",
      "    Not all the parameters are used for calculation, it depends on the\n",
      "    kriging type and options\n",
      "\n",
      "    Optional parameters can be removed, knowing that kt3D will create\n",
      "    internal arrays/variable initialized to zero value\n",
      "\n",
      "    If using nbhid > 0 the hole id number (bhid) is required. Hole\n",
      "    IDs may be integers from one to total number of drillholes.\n",
      "    Use function pygslib.Drillhole.txt2intID(table_name) to get\n",
      "    a correct bhid number.\n",
      "\n",
      "    Some important stats and run progress are only available in the\n",
      "    stdout (the terminal) and will not be available in Ipython Notebooks.\n",
      "\n",
      "    \n"
     ]
    }
   ],
   "source": [
    "print(pygslib.gslib.kt3d.__doc__)"
   ]
  },
  {
   "cell_type": "code",
   "execution_count": 23,
   "metadata": {},
   "outputs": [
    {
     "data": {
      "text/plain": [
       "(array([87.5]), array([97.5]), array([57.5]))"
      ]
     },
     "execution_count": 23,
     "metadata": {},
     "output_type": "execute_result"
    }
   ],
   "source": [
    "# get a test block with IJK 16541\n",
    "XC = mymodel.bmtable.loc[mymodel.bmtable['IJK']==16541, 'XC'].values\n",
    "YC = mymodel.bmtable.loc[mymodel.bmtable['IJK']==16541, 'YC'].values\n",
    "ZC = mymodel.bmtable.loc[mymodel.bmtable['IJK']==16541, 'ZC'].values\n",
    "# these are three arrays with block coordinates x, y, z of the block centroid\n",
    "XC, YC, ZC"
   ]
  },
  {
   "cell_type": "code",
   "execution_count": 24,
   "metadata": {},
   "outputs": [],
   "source": [
    "# creating parameter dictionary for estimation in one block (note also that 'idbg'       : 1 will output the testing data)\n",
    "kt3d_Parameters = {\n",
    "            # Input Data (Only using intervals in the mineralized domain)\n",
    "            # ----------\n",
    "            'x' : mydholes.table[\"cmp\"]['xm'].values, \n",
    "            'y' : mydholes.table[\"cmp\"]['ym'].values,\n",
    "            'z' : mydholes.table[\"cmp\"]['zm'].values,\n",
    "            'vr' : mydholes.table[\"cmp\"]['Au'].values,\n",
    "            'bhidint' : mydholes.table[\"cmp\"]['BHIDint'].values, # an interger BHID\n",
    "            # Output (Target) \n",
    "            # ----------\n",
    "            'nx' : 100,  # these parameters are only used to define supperblock search\n",
    "            'ny' : 100,  \n",
    "            'nz' : 100, \n",
    "            'xmn' : 0,  \n",
    "            'ymn' : 0,  \n",
    "            'zmn' : 0,  \n",
    "            'xsiz' : 5,  \n",
    "            'ysiz' : 5,   \n",
    "            'zsiz' : 5, \n",
    "            'nxdis' : 5,  \n",
    "            'nydis' : 5,  \n",
    "            'nzdis' : 3,  \n",
    "            'outx' : XC,  \n",
    "            'outy' : YC,\n",
    "            'outz' : ZC,\n",
    "            # Search parameters \n",
    "            # ----------\n",
    "            'radius'     : 60,   \n",
    "            'radius1'    : 60,   \n",
    "            'radius2'    : 8,   \n",
    "            'sang1'      : 0,  \n",
    "            'sang2'      : 0,   \n",
    "            'sang3'      : -15,   \n",
    "            'ndmax'      : 20,    \n",
    "            'ndmin'      : 7,  \n",
    "            'noct'       : 0,\n",
    "            'nbhid'      : 5,   \n",
    "            # Kriging parameters and options \n",
    "            # ----------\n",
    "            'ktype'      : 1,   # 1 Ordinary kriging \n",
    "            'idbg'       : 1,   # 0 no debug \n",
    "            # Variogram parameters Pygslib\n",
    "            # ----------\n",
    "            'c0'         : 0.1,   \n",
    "            'it'         : [1],    \n",
    "            'cc'         : [.9],     \n",
    "            'aa'         : [100],   \n",
    "            'aa1'        : [100],  \n",
    "            'aa2'        : [20],   \n",
    "            'ang1'       : [0],   \n",
    "            'ang2'       : [0],  \n",
    "            'ang3'       : [-15]}   "
   ]
  },
  {
   "cell_type": "code",
   "execution_count": 25,
   "metadata": {},
   "outputs": [
    {
     "data": {
      "image/png": "[encoded data removed]",
      "text/plain": [
       "<Figure size 432x288 with 2 Axes>"
      ]
     },
     "metadata": {
      "needs_background": "light"
     },
     "output_type": "display_data"
    }
   ],
   "source": [
    "# estimating in one blocks and observe the data selected\n",
    "estimate, debug, summary = pygslib.gslib.kt3d(kt3d_Parameters)"
   ]
  },
  {
   "cell_type": "code",
   "execution_count": 26,
   "metadata": {},
   "outputs": [],
   "source": [
    "# save the data to visualize in paraview\n",
    "\n",
    "# saving debug to a csv file using Pandas. drag and drop in paraview and use table to point \n",
    "pd.DataFrame(    {'x':debug['dbgxdat'],\n",
    "                  'y':debug['dbgydat'],\n",
    "                  'z':debug['dbgzdat'],\n",
    "                  'wt':debug['dbgwt']}).to_csv('dbg_data.csv', index=False)\n",
    "\n",
    "# save the search ellipse to a VTK file\n",
    "pygslib.vtktools.SavePolydata(debug['ellipsoid'], 'search_ellipsoid')"
   ]
  },
  {
   "cell_type": "markdown",
   "metadata": {},
   "source": [
    "You can validate the estimate in Paraview. Observe the negative wights (almost equal to zero), but still concerning for an Gold deposit. \n",
    " \n",
    " We will ignore these negative weights for now, but you may take actions such as using longer composites, increasing the nugget, and reducing the number of samples per drillhole (`'nbhid'`).  \n",
    " \n",
    " <img src ='fig2.JPG' >\n",
    " <figcaption>Fig.2 - Validation of the estimate in one block.</figcaption>\n",
    " \n",
    " Now we are ready to run the estimate in the entire model. "
   ]
  },
  {
   "cell_type": "code",
   "execution_count": 27,
   "metadata": {},
   "outputs": [],
   "source": [
    "# set the debug to zero:\n",
    "kt3d_Parameters['idbg'] = 0 \n",
    "\n",
    "# set the coordinates array ecual to all blocks in the domain \n",
    "kt3d_Parameters['outx'] =  mymodel.bmtable['XC'].values  \n",
    "kt3d_Parameters['outy'] =  mymodel.bmtable['YC'].values  \n",
    "kt3d_Parameters['outz'] =  mymodel.bmtable['ZC'].values  \n",
    "\n",
    "# estimating in all blocks\n",
    "estimate, debug, summary = pygslib.gslib.kt3d(kt3d_Parameters)"
   ]
  },
  {
   "cell_type": "code",
   "execution_count": 28,
   "metadata": {},
   "outputs": [],
   "source": [
    "# adding the estimate into the model\n",
    "mymodel.bmtable['Au_OK'] = estimate['outest']       # The estimator defined in the parameter dic\n",
    "mymodel.bmtable['Au_ID2'] = estimate['outidpower']  # The inverse of the distance to the power defined on 'id2power' (default 2)\n",
    "mymodel.bmtable['Au_NN'] = estimate['outnn']        # The nearest neighbour estimate\n",
    "mymodel.bmtable['Au_Lagrange'] = estimate['outlagrange']   # lagrange multiplier (if using ordinary kriging)\n",
    "mymodel.bmtable['Au_KVar']= estimate['outkvar']            # Kriging variance "
   ]
  },
  {
   "cell_type": "code",
   "execution_count": 29,
   "metadata": {},
   "outputs": [],
   "source": [
    "# exporting block model to VTK (unstructured grid) \n",
    "mymodel.blocks2vtkUnstructuredGrid(path='bmodel.vtu')\n",
    "\n",
    "# exporting block model to csv\n",
    "# the model table is a pandas DataFrame, use the function to_csv\n",
    "mymodel.bmtable.to_csv('bmodel.csv', index = False)"
   ]
  },
  {
   "cell_type": "markdown",
   "metadata": {},
   "source": [
    "### Validating results\n",
    "\n",
    "Basic validations are:\n",
    "\n",
    " - visual validation\n",
    " - comparison of mean grades\n",
    " - swath plots \n",
    " - global change of support (GCOS)\n"
   ]
  },
  {
   "cell_type": "markdown",
   "metadata": {},
   "source": [
    "#### Visual validations \n",
    "\n",
    "Use Paraview :)"
   ]
  },
  {
   "cell_type": "markdown",
   "metadata": {},
   "source": [
    "#### Mean comparison"
   ]
  },
  {
   "cell_type": "code",
   "execution_count": 30,
   "metadata": {},
   "outputs": [
    {
     "name": "stdout",
     "output_type": "stream",
     "text": [
      "Mean in model OK   : 1.1692686\n",
      "Mean in model ID2   : 1.3287781\n",
      "Mean in model NN   : 1.1181831\n",
      "Mean in data    : 1.3279108768783785\n",
      "Declustered mean: 1.3074799124567966\n"
     ]
    }
   ],
   "source": [
    "print (\"Mean in model OK   :\",  mymodel.bmtable['Au_OK'].mean())\n",
    "print (\"Mean in model ID2   :\",  mymodel.bmtable['Au_ID2'].mean())\n",
    "print (\"Mean in model NN   :\",  mymodel.bmtable['Au_NN'].mean())    # NN is equivalent to a declustered mean \n",
    "print (\"Mean in data    :\", mydholes.table[\"cmp\"]['Au'].mean())\n",
    "print (\"Declustered mean:\", decl_mean)"
   ]
  },
  {
   "cell_type": "markdown",
   "metadata": {},
   "source": [
    "#### Swath plots\n",
    "\n",
    "We use the NN as declustered mean and the pandas DataFrame function `groupbay` to create the slices of the model in the X, Y and Z directions."
   ]
  },
  {
   "cell_type": "code",
   "execution_count": 31,
   "metadata": {},
   "outputs": [
    {
     "data": {
      "text/plain": [
       "<AxesSubplot:xlabel='XC'>"
      ]
     },
     "execution_count": 31,
     "metadata": {},
     "output_type": "execute_result"
    },
    {
     "data": {
      "image/png": "[encoded data removed]",
      "text/plain": [
       "<Figure size 432x288 with 1 Axes>"
      ]
     },
     "metadata": {
      "needs_background": "light"
     },
     "output_type": "display_data"
    }
   ],
   "source": [
    "mymodel.bmtable.groupby('XC')[['Au_OK','Au_ID2','Au_NN']].mean().plot()"
   ]
  },
  {
   "cell_type": "code",
   "execution_count": 32,
   "metadata": {},
   "outputs": [
    {
     "data": {
      "text/plain": [
       "<AxesSubplot:xlabel='YC'>"
      ]
     },
     "execution_count": 32,
     "metadata": {},
     "output_type": "execute_result"
    },
    {
     "data": {
      "image/png": "[encoded data removed]",
      "text/plain": [
       "<Figure size 432x288 with 1 Axes>"
      ]
     },
     "metadata": {
      "needs_background": "light"
     },
     "output_type": "display_data"
    }
   ],
   "source": [
    "mymodel.bmtable.groupby('YC')[['Au_OK','Au_ID2','Au_NN']].mean().plot()"
   ]
  },
  {
   "cell_type": "code",
   "execution_count": 33,
   "metadata": {},
   "outputs": [
    {
     "data": {
      "text/plain": [
       "<AxesSubplot:xlabel='ZC'>"
      ]
     },
     "execution_count": 33,
     "metadata": {},
     "output_type": "execute_result"
    },
    {
     "data": {
      "image/png": "[encoded data removed]",
      "text/plain": [
       "<Figure size 432x288 with 1 Axes>"
      ]
     },
     "metadata": {
      "needs_background": "light"
     },
     "output_type": "display_data"
    }
   ],
   "source": [
    "mymodel.bmtable.groupby('ZC')[['Au_OK','Au_ID2','Au_NN']].mean().plot()"
   ]
  },
  {
   "cell_type": "markdown",
   "metadata": {},
   "source": [
    "#### Global change of support  "
   ]
  },
  {
   "cell_type": "code",
   "execution_count": 34,
   "metadata": {},
   "outputs": [
    {
     "name": "stdout",
     "output_type": "stream",
     "text": [
      "('Raw Variance', 2.2468695806900487)\n",
      "('Variance from PCI', 2.233368105787908)\n",
      "('zamin', 0.040193994605426664)\n",
      "('zamax', 9.453352695948624)\n",
      "('yamin', -2.6095219043808764)\n",
      "('yamax', 2.6915383076615322)\n",
      "('zpmin', 0.036812858513089)\n",
      "('zpmax', 9.557591339287837)\n",
      "('ypmin', -2.9355871174234847)\n",
      "('ypmax', 2.929585917183437)\n"
     ]
    },
    {
     "data": {
      "image/png": "[encoded data removed]",
      "text/plain": [
       "<Figure size 432x288 with 1 Axes>"
      ]
     },
     "metadata": {
      "needs_background": "light"
     },
     "output_type": "display_data"
    }
   ],
   "source": [
    "# Fit anamorphosis by changing, zmax, zmin, and extrapolation function\n",
    "PCI, H, raw, zana, gauss, Z , P, raw_var , PCI_var, fig, zamin, zamax, yamin, yamax, zpmin, zpmax, ypmin, ypmax  = pygslib.nonlinear.anamor(\n",
    "                         z = mydholes.table[\"cmp\"]['Au'], \n",
    "                         w = mydholes.table[\"cmp\"]['declustwt'], \n",
    "                         zmin = mydholes.table[\"cmp\"]['Au'].min(), \n",
    "                         zmax = mydholes.table[\"cmp\"]['Au'].max(),\n",
    "                         zpmin = None, zpmax = None,\n",
    "                         ymin=-5, ymax=5,\n",
    "                         ndisc = 5000,\n",
    "                         ltail=1, utail=4, ltpar=1, utpar=1.5, K=40)"
   ]
  },
  {
   "cell_type": "code",
   "execution_count": 35,
   "metadata": {},
   "outputs": [
    {
     "name": "stdout",
     "output_type": "stream",
     "text": [
      "cbb : 0.7769696103844224\n",
      "r   : 0.6586304990080434\n"
     ]
    }
   ],
   "source": [
    "# calc block covariance\n",
    "parameters_cov = {\n",
    "           # Coordinates of the discretization points (using 500 points located at random in the block)\n",
    "            'xdb'  :  np.random.rand(1000)*5, # array('f')\n",
    "            'ydb'  :  np.random.rand(1000)*5, # array('f')\n",
    "            'zdb'  :  np.random.rand(1000)*5, # array('f')\n",
    "           # Variogram model\n",
    "            'c0'         : 0.1,   \n",
    "            'it'         : [1],    \n",
    "            'cc'         : [.9],     \n",
    "            'aa'         : [100],   \n",
    "            'aa1'        : [100],  \n",
    "            'aa2'        : [20],   \n",
    "            'ang1'       : [0],   \n",
    "            'ang2'       : [0],  \n",
    "            'ang3'       : [-15]} \n",
    "\n",
    "\n",
    "cbb = pygslib.gslib.block_covariance(parameters_cov)\n",
    "\n",
    "# calculate the support correction coefficient r\n",
    "r = pygslib.nonlinear.get_r(Var_Zv = cbb, PCI = PCI)\n",
    "\n",
    "print ('cbb :', cbb)\n",
    "print ('r   :', r)"
   ]
  },
  {
   "cell_type": "code",
   "execution_count": 36,
   "metadata": {},
   "outputs": [
    {
     "name": "stdout",
     "output_type": "stream",
     "text": [
      "('zamin blk', 0.036813077126897166)\n",
      "('zamax blk', 9.557591339287837)\n",
      "('yamin blk', -4.995999199839968)\n",
      "('yamax blk', 4.997999599919984)\n",
      "('zpmin blk', 0.036813072640339034)\n",
      "('zpmax blk', 9.557591339287837)\n",
      "('ypmin blk', -5.0)\n",
      "('ypmax blk', 5.0)\n"
     ]
    },
    {
     "data": {
      "image/png": "[encoded data removed]",
      "text/plain": [
       "<Figure size 432x288 with 1 Axes>"
      ]
     },
     "metadata": {
      "needs_background": "light"
     },
     "output_type": "display_data"
    }
   ],
   "source": [
    "# fit block anamorphosis\n",
    "ZV, PV, fig2, zamin, zamax_blk, yamin_blk, yamax_blk, zpmin_blk, zpmax_blk, ypmin_blk, ypmax_blk = pygslib.nonlinear.anamor_blk( PCI, H, r = r, gauss = gauss, Z = Z,\n",
    "                  ltail=1, utail=1, ltpar=1, utpar=1,\n",
    "                  raw=raw, zana=zana)"
   ]
  },
  {
   "cell_type": "code",
   "execution_count": 37,
   "metadata": {},
   "outputs": [],
   "source": [
    "# calculate grade tonnage courve\n",
    "\n",
    "cutoff = np.arange(0, 3, 0.01)\n",
    "tt = []\n",
    "gg = []\n",
    "label = []\n",
    "\n",
    "# calculate GTC from gaussian in block support \n",
    "t,ga,gb = pygslib.nonlinear.gtcurve (cutoff = cutoff, z=ZV, p=PV, varred = 1, ivtyp = 0, zmin = 0, zmax = None,\n",
    "             ltail = 1, ltpar = 1, middle = 1, mpar = 1, utail = 1, utpar = 1,maxdis = 1000)\n",
    "tt.append(t)\n",
    "gg.append(ga)\n",
    "label.append('DGM with block support')"
   ]
  },
  {
   "cell_type": "code",
   "execution_count": 38,
   "metadata": {},
   "outputs": [
    {
     "data": {
      "image/png": "[encoded data removed]",
      "text/plain": [
       "<Figure size 460.8x345.6 with 2 Axes>"
      ]
     },
     "metadata": {
      "needs_background": "light"
     },
     "output_type": "display_data"
    }
   ],
   "source": [
    "# see how it look with GCOS. This is also know as global estimation\n",
    "fig = pygslib.nonlinear.plotgt(cutoff = cutoff, t = tt, g = gg, label = label)"
   ]
  },
  {
   "cell_type": "markdown",
   "metadata": {},
   "source": [
    "Now, we can compare the global resources estimated with the discrete gaussian model with the resources estimated with the block model. \n",
    "We can filter blocks to get the grade and tonnage curves at any arbitrary cutoff. However, there is another way. We convert the clock model estimate to a CDF, and then we can generate the grade and tonnage curves using the PyGSLIB function `pygslib.nonlinear.gtcurve`"
   ]
  },
  {
   "cell_type": "code",
   "execution_count": 39,
   "metadata": {},
   "outputs": [],
   "source": [
    "# get the CDF of the block model estimates\n",
    "\n",
    "# CDF of the kriging estimate\n",
    "parameters_probplt = {\n",
    "        'iwt'  : 0,                             #int, 1 use declustering weight\n",
    "        'va'   : mymodel.bmtable['Au_OK'][mymodel.bmtable['Au_OK'].notnull()].values,             # array('d') with bounds (nd)\n",
    "        'wt'   : np.ones(mymodel.bmtable['Au_OK'][mymodel.bmtable['Au_OK'].notnull()].shape[0])} # array('d') with bounds (nd), wight variable (obtained with declust?)\n",
    "\n",
    "\n",
    "binval_ok,cl_ok,xpt025,xlqt,xmed,xuqt,xpt975,xmin,xmax, \\\n",
    "xcvr,xmen,xvar,error = pygslib.gslib.__plot.probplt(**parameters_probplt)\n",
    "\n",
    "# CDF of the inverse of the distance estimate \n",
    "parameters_probplt = {\n",
    "        'iwt'  : 0,                             #int, 1 use declustering weight\n",
    "        'va'   : mymodel.bmtable['Au_ID2'][mymodel.bmtable['Au_OK'].notnull()].values,             # array('d') with bounds (nd)\n",
    "        'wt'   : np.ones(mymodel.bmtable['Au_OK'][mymodel.bmtable['Au_OK'].notnull()].shape[0])} # array('d') with bounds (nd), wight variable (obtained with declust?)\n",
    "\n",
    "binval_id2,cl_id2,xpt025,xlqt,xmed,xuqt,xpt975,xmin,xmax, \\\n",
    "xcvr,xmen,xvar,error = pygslib.gslib.__plot.probplt(**parameters_probplt)"
   ]
  },
  {
   "cell_type": "code",
   "execution_count": 40,
   "metadata": {},
   "outputs": [],
   "source": [
    "# Grade and tonnage curves from CDF of the block model estimates\n",
    "\n",
    "# calculate GTC ok \n",
    "t,ga,gb = pygslib.nonlinear.gtcurve (cutoff = cutoff, z=cl_ok, p=binval_ok, varred = 1, ivtyp = 2, zmin = 0, zmax = None,\n",
    "             ltail = 1, ltpar = 1, middle = 1, mpar = 1, utail = 1, utpar = 1,maxdis = 1000)\n",
    "tt.append(t)\n",
    "gg.append(ga)\n",
    "label.append('Ordinary Kriging')\n",
    "\n",
    "# calculate GTC in block support\n",
    "t,ga,gb = pygslib.nonlinear.gtcurve (cutoff = cutoff, z=cl_id2, p=binval_id2, varred = 1, ivtyp = 2, zmin = 0, zmax = None,\n",
    "             ltail = 1, ltpar = 1, middle = 1, mpar = 1, utail = 1, utpar = 1,maxdis = 1000)\n",
    "tt.append(t)\n",
    "gg.append(ga)\n",
    "label.append('Inverse of the Distance 2')"
   ]
  },
  {
   "cell_type": "code",
   "execution_count": 41,
   "metadata": {},
   "outputs": [
    {
     "data": {
      "image/png": "[encoded data removed]",
      "text/plain": [
       "<Figure size 460.8x345.6 with 2 Axes>"
      ]
     },
     "metadata": {
      "needs_background": "light"
     },
     "output_type": "display_data"
    }
   ],
   "source": [
    "fig = pygslib.nonlinear.plotgt(cutoff = cutoff, t = tt, g = gg, label = label)"
   ]
  },
  {
   "cell_type": "code",
   "execution_count": 42,
   "metadata": {},
   "outputs": [
    {
     "data": {
      "text/plain": [
       "<matplotlib.legend.Legend at 0x251b00c73d0>"
      ]
     },
     "execution_count": 42,
     "metadata": {},
     "output_type": "execute_result"
    },
    {
     "data": {
      "image/png": "[encoded data removed]",
      "text/plain": [
       "<Figure size 432x288 with 1 Axes>"
      ]
     },
     "metadata": {
      "needs_background": "light"
     },
     "output_type": "display_data"
    }
   ],
   "source": [
    "# we can plot diferences (relative error in grade)\n",
    "plt.plot (cutoff, gg[0]-gg[1], label = 'DGM - OK')\n",
    "plt.plot (cutoff, gg[0]-gg[2], label = 'DGM - ID2')\n",
    "plt.plot (cutoff, np.zeros(cutoff.shape[0]),'--k', label = 'Zero error')\n",
    "plt.title('relative error in grade')\n",
    "plt.xlabel ('cutoff')\n",
    "plt.ylabel ('relative error')\n",
    "plt.legend()"
   ]
  },
  {
   "cell_type": "code",
   "execution_count": 43,
   "metadata": {},
   "outputs": [
    {
     "data": {
      "text/plain": [
       "Text(0.5, 1.0, 'relative error in tonnage')"
      ]
     },
     "execution_count": 43,
     "metadata": {},
     "output_type": "execute_result"
    },
    {
     "data": {
      "image/png": "[encoded data removed]",
      "text/plain": [
       "<Figure size 432x288 with 1 Axes>"
      ]
     },
     "metadata": {
      "needs_background": "light"
     },
     "output_type": "display_data"
    }
   ],
   "source": [
    "# we can plot diferences (relative error in tonnage)\n",
    "plt.plot (cutoff, tt[0]-tt[1], label = 'DGM - OK')\n",
    "plt.plot (cutoff, tt[0]-tt[2], label = 'DGM - ID2')\n",
    "plt.plot (cutoff, np.zeros(cutoff.shape[0]),'--k', label = 'Zero error')\n",
    "plt.legend()\n",
    "plt.xlabel ('cutoff')\n",
    "plt.ylabel ('relative error')\n",
    "plt.title('relative error in tonnage')"
   ]
  },
  {
   "cell_type": "markdown",
   "metadata": {},
   "source": [
    "Let's save the global change of support validation results as a CSV"
   ]
  },
  {
   "cell_type": "code",
   "execution_count": 44,
   "metadata": {},
   "outputs": [
    {
     "data": {
      "text/html": [
       "<div>\n",
       "<style scoped>\n",
       "    .dataframe tbody tr th:only-of-type {\n",
       "        vertical-align: middle;\n",
       "    }\n",
       "\n",
       "    .dataframe tbody tr th {\n",
       "        vertical-align: top;\n",
       "    }\n",
       "\n",
       "    .dataframe thead th {\n",
       "        text-align: right;\n",
       "    }\n",
       "</style>\n",
       "<table border=\"1\" class=\"dataframe\">\n",
       "  <thead>\n",
       "    <tr style=\"text-align: right;\">\n",
       "      <th></th>\n",
       "      <th>cutoff</th>\n",
       "      <th>Tons DGM</th>\n",
       "      <th>Tons OK</th>\n",
       "      <th>Tons ID2</th>\n",
       "      <th>Au DGM (g/t)</th>\n",
       "      <th>Au OK (g/t)</th>\n",
       "      <th>Au ID2 (g/t)</th>\n",
       "    </tr>\n",
       "  </thead>\n",
       "  <tbody>\n",
       "    <tr>\n",
       "      <th>0</th>\n",
       "      <td>0.00</td>\n",
       "      <td>1.000000</td>\n",
       "      <td>1.000000</td>\n",
       "      <td>1.000000</td>\n",
       "      <td>1.307262</td>\n",
       "      <td>1.169356</td>\n",
       "      <td>1.328789</td>\n",
       "    </tr>\n",
       "    <tr>\n",
       "      <th>1</th>\n",
       "      <td>0.01</td>\n",
       "      <td>1.000000</td>\n",
       "      <td>0.999988</td>\n",
       "      <td>0.999995</td>\n",
       "      <td>1.307262</td>\n",
       "      <td>1.169356</td>\n",
       "      <td>1.328789</td>\n",
       "    </tr>\n",
       "    <tr>\n",
       "      <th>2</th>\n",
       "      <td>0.02</td>\n",
       "      <td>1.000000</td>\n",
       "      <td>0.999976</td>\n",
       "      <td>0.999990</td>\n",
       "      <td>1.307262</td>\n",
       "      <td>1.169356</td>\n",
       "      <td>1.328789</td>\n",
       "    </tr>\n",
       "    <tr>\n",
       "      <th>3</th>\n",
       "      <td>0.03</td>\n",
       "      <td>1.000000</td>\n",
       "      <td>0.999964</td>\n",
       "      <td>0.999985</td>\n",
       "      <td>1.307262</td>\n",
       "      <td>1.169356</td>\n",
       "      <td>1.328789</td>\n",
       "    </tr>\n",
       "    <tr>\n",
       "      <th>4</th>\n",
       "      <td>0.04</td>\n",
       "      <td>1.000000</td>\n",
       "      <td>0.999952</td>\n",
       "      <td>0.999980</td>\n",
       "      <td>1.307262</td>\n",
       "      <td>1.169356</td>\n",
       "      <td>1.328789</td>\n",
       "    </tr>\n",
       "    <tr>\n",
       "      <th>...</th>\n",
       "      <td>...</td>\n",
       "      <td>...</td>\n",
       "      <td>...</td>\n",
       "      <td>...</td>\n",
       "      <td>...</td>\n",
       "      <td>...</td>\n",
       "      <td>...</td>\n",
       "    </tr>\n",
       "    <tr>\n",
       "      <th>295</th>\n",
       "      <td>2.95</td>\n",
       "      <td>0.056427</td>\n",
       "      <td>0.068188</td>\n",
       "      <td>0.082860</td>\n",
       "      <td>3.815540</td>\n",
       "      <td>4.215492</td>\n",
       "      <td>4.493357</td>\n",
       "    </tr>\n",
       "    <tr>\n",
       "      <th>296</th>\n",
       "      <td>2.96</td>\n",
       "      <td>0.055791</td>\n",
       "      <td>0.066895</td>\n",
       "      <td>0.082172</td>\n",
       "      <td>3.815540</td>\n",
       "      <td>4.234312</td>\n",
       "      <td>4.512136</td>\n",
       "    </tr>\n",
       "    <tr>\n",
       "      <th>297</th>\n",
       "      <td>2.97</td>\n",
       "      <td>0.055162</td>\n",
       "      <td>0.066458</td>\n",
       "      <td>0.081866</td>\n",
       "      <td>3.831014</td>\n",
       "      <td>4.253470</td>\n",
       "      <td>4.512136</td>\n",
       "    </tr>\n",
       "    <tr>\n",
       "      <th>298</th>\n",
       "      <td>2.98</td>\n",
       "      <td>0.054540</td>\n",
       "      <td>0.065873</td>\n",
       "      <td>0.081607</td>\n",
       "      <td>3.831014</td>\n",
       "      <td>4.253470</td>\n",
       "      <td>4.512136</td>\n",
       "    </tr>\n",
       "    <tr>\n",
       "      <th>299</th>\n",
       "      <td>2.99</td>\n",
       "      <td>0.053926</td>\n",
       "      <td>0.065547</td>\n",
       "      <td>0.081251</td>\n",
       "      <td>3.846765</td>\n",
       "      <td>4.253470</td>\n",
       "      <td>4.531001</td>\n",
       "    </tr>\n",
       "  </tbody>\n",
       "</table>\n",
       "<p>300 rows × 7 columns</p>\n",
       "</div>"
      ],
      "text/plain": [
       "     cutoff  Tons DGM   Tons OK  Tons ID2  Au DGM (g/t)  Au OK (g/t)  \\\n",
       "0      0.00  1.000000  1.000000  1.000000      1.307262     1.169356   \n",
       "1      0.01  1.000000  0.999988  0.999995      1.307262     1.169356   \n",
       "2      0.02  1.000000  0.999976  0.999990      1.307262     1.169356   \n",
       "3      0.03  1.000000  0.999964  0.999985      1.307262     1.169356   \n",
       "4      0.04  1.000000  0.999952  0.999980      1.307262     1.169356   \n",
       "..      ...       ...       ...       ...           ...          ...   \n",
       "295    2.95  0.056427  0.068188  0.082860      3.815540     4.215492   \n",
       "296    2.96  0.055791  0.066895  0.082172      3.815540     4.234312   \n",
       "297    2.97  0.055162  0.066458  0.081866      3.831014     4.253470   \n",
       "298    2.98  0.054540  0.065873  0.081607      3.831014     4.253470   \n",
       "299    2.99  0.053926  0.065547  0.081251      3.846765     4.253470   \n",
       "\n",
       "     Au ID2 (g/t)  \n",
       "0        1.328789  \n",
       "1        1.328789  \n",
       "2        1.328789  \n",
       "3        1.328789  \n",
       "4        1.328789  \n",
       "..            ...  \n",
       "295      4.493357  \n",
       "296      4.512136  \n",
       "297      4.512136  \n",
       "298      4.512136  \n",
       "299      4.531001  \n",
       "\n",
       "[300 rows x 7 columns]"
      ]
     },
     "execution_count": 44,
     "metadata": {},
     "output_type": "execute_result"
    }
   ],
   "source": [
    "GCOS_validation = pd.DataFrame({'cutoff': cutoff,\n",
    "                               'Tons DGM' : tt[0],\n",
    "                               'Tons OK'  : tt[1],\n",
    "                               'Tons ID2' : tt[2],\n",
    "                               'Au DGM (g/t)' : gg[0],\n",
    "                               'Au OK (g/t)'  : gg[1],\n",
    "                               'Au ID2 (g/t)' : gg[2],})\n",
    "\n",
    "GCOS_validation.to_csv('GCOS validation.csv', index = False)\n",
    "\n",
    "GCOS_validation"
   ]
  },
  {
   "cell_type": "code",
   "execution_count": null,
   "metadata": {},
   "outputs": [],
   "source": []
  }
 ],
 "metadata": {
  "kernelspec": {
   "display_name": "Python 3 (ipykernel)",
   "language": "python",
   "name": "python3"
  },
  "language_info": {
   "codemirror_mode": {
    "name": "ipython",
    "version": 3
   },
   "file_extension": ".py",
   "mimetype": "text/x-python",
   "name": "python",
   "nbconvert_exporter": "python",
   "pygments_lexer": "ipython3",
   "version": "3.9.13"
  }
 },
 "nbformat": 4,
 "nbformat_minor": 4
}
